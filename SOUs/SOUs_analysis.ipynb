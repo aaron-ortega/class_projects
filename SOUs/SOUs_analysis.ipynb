{
 "cells": [
  {
   "cell_type": "markdown",
   "metadata": {},
   "source": [
    "# SOU Analysis"
   ]
  },
  {
   "cell_type": "markdown",
   "metadata": {},
   "source": [
    "### part a)"
   ]
  },
  {
   "cell_type": "code",
   "execution_count": 1,
   "metadata": {},
   "outputs": [],
   "source": [
    "import pickle\n",
    "import re\n",
    "import matplotlib.pyplot as plt\n",
    "import numpy as np\n",
    "import pandas as pd\n",
    "import time\n",
    "%matplotlib inline"
   ]
  },
  {
   "cell_type": "code",
   "execution_count": 2,
   "metadata": {},
   "outputs": [],
   "source": [
    "f = open('speeches.pkl', 'rb')\n",
    "speeches = pickle.load(f)"
   ]
  },
  {
   "cell_type": "code",
   "execution_count": 3,
   "metadata": {},
   "outputs": [],
   "source": [
    "# speeches is a list\n",
    "# 1st index contains president, speech, & year"
   ]
  },
  {
   "cell_type": "markdown",
   "metadata": {},
   "source": [
    "### Clean data"
   ]
  },
  {
   "cell_type": "code",
   "execution_count": 4,
   "metadata": {},
   "outputs": [],
   "source": [
    "# define a regular expression\n",
    "remove = re.compile(r\"\"\"\n",
    "    (\n",
    "    [\\n\\r\\x95\\x97\\x80\\x99\\x94]  # delimiters\n",
    "    |[0-9]+[a-zA-Z]+            # ordinal numbers\n",
    "    |\\d.                        # all digits\n",
    "    |[$,+;'\\]\"\\[%^&{}:\\-()]     # metacharacters\n",
    "    |[A-Z][a-z]{0,3}\\.          # abbreviations\n",
    "    )\n",
    "\"\"\", re.VERBOSE)"
   ]
  },
  {
   "cell_type": "code",
   "execution_count": 5,
   "metadata": {},
   "outputs": [],
   "source": [
    "speech_count = len(speeches)  # 226 speeches [from Washington to Obama]\n",
    "address = [[]] * speech_count\n",
    "presidents = []\n",
    "year = []\n",
    "\n",
    "# replace expressions w/ single whitespace\n",
    "for i in range(speech_count):\n",
    "    address[i] = remove.sub(' ', speeches[i][1])\n",
    "    presidents.append(speeches[i][0])\n",
    "    year.append(speeches[i][2])"
   ]
  },
  {
   "cell_type": "code",
   "execution_count": 6,
   "metadata": {},
   "outputs": [],
   "source": [
    "f.close()"
   ]
  },
  {
   "cell_type": "code",
   "execution_count": 7,
   "metadata": {},
   "outputs": [],
   "source": [
    "parsed_speeches = [[]] * speech_count\n",
    "\n",
    "\"\"\"\n",
    "1. Convert capitalcase to lowercase\n",
    "2. Split each speech w/ period as separator\n",
    "3. Remove empty sentences w/ filter method\n",
    "4. Return list w/ sentences per speech\n",
    "\"\"\"\n",
    "for j in range(speech_count):\n",
    "    parsed_speeches[j] = list(filter(None, address[j].lower().split('.')))\n"
   ]
  },
  {
   "cell_type": "markdown",
   "metadata": {},
   "source": [
    "### Part b)"
   ]
  },
  {
   "cell_type": "code",
   "execution_count": 8,
   "metadata": {},
   "outputs": [],
   "source": [
    "def linear_regression(X, Y):\n",
    "    \"\"\"Computes the linear regression.\"\"\"\n",
    "    \n",
    "    mean_x = np.mean(X)\n",
    "    mean_y = np.mean(Y)\n",
    "    values = len(X)\n",
    "    \n",
    "    numerator = 0\n",
    "    denominator = 0\n",
    "    \n",
    "    for i in range(values):\n",
    "        numerator += (X[i] - mean_x) * (Y[i] - mean_y)\n",
    "        denominator += (X[i] - mean_x) ** 2\n",
    "    b1 = numerator / denominator\n",
    "    b0 = mean_y - (b1 * mean_x)\n",
    "    \n",
    "    \"\"\"Returns y-intercept and slope\"\"\"\n",
    "    return [b0, b1]"
   ]
  },
  {
   "cell_type": "code",
   "execution_count": 9,
   "metadata": {},
   "outputs": [],
   "source": [
    "# calculate number of sentences per address\n",
    "num_sentences = np.zeros(len(parsed_speeches))\n",
    "for count in range(speech_count):\n",
    "    num_sentences[count] = len(parsed_speeches[count])"
   ]
  },
  {
   "cell_type": "code",
   "execution_count": 10,
   "metadata": {},
   "outputs": [],
   "source": [
    "# convert year to numpy array\n",
    "year = np.array(year, dtype=int)"
   ]
  },
  {
   "cell_type": "code",
   "execution_count": 11,
   "metadata": {},
   "outputs": [
    {
     "data": {
      "image/png": "[encoded data removed]",
      "text/plain": [
       "<matplotlib.figure.Figure at 0x10fe33828>"
      ]
     },
     "metadata": {},
     "output_type": "display_data"
    }
   ],
   "source": [
    "y_int, slope = linear_regression(year, num_sentences)\n",
    "model_sentence_total = slope * year + y_int\n",
    "\n",
    "# plotting \n",
    "plt.figure(dpi=100)\n",
    "plt.plot(year, model_sentence_total, c='orange')\n",
    "plt.scatter(year, num_sentences)\n",
    "plt.xlabel('Year')\n",
    "plt.ylabel('Number of sentences')\n",
    "plt.title('Total number of sentences in SOU speeches')\n",
    "plt.show()"
   ]
  },
  {
   "cell_type": "markdown",
   "metadata": {},
   "source": [
    "A linear fit does not correctly gauge the trend.\n",
    "<br>Nevertheless, the number of sentences throughout the years have been increasing."
   ]
  },
  {
   "cell_type": "code",
   "execution_count": 12,
   "metadata": {},
   "outputs": [],
   "source": [
    "\"\"\"\n",
    "Calculate:\n",
    "1. Average sentence length\n",
    "2. Total words per speech\n",
    "3. Longest and shortest sentences\n",
    "\"\"\"\n",
    "\n",
    "average = np.zeros(speech_count)\n",
    "total_words = np.zeros(speech_count)\n",
    "\n",
    "longest_sentence = 0\n",
    "shortest_sentence = 0\n",
    "tmp = 0\n",
    "\n",
    "for i in range(len(parsed_speeches)):\n",
    "    count = 0\n",
    "    for j in range(len(parsed_speeches[i])):\n",
    "        count += len(parsed_speeches[i][j].split())\n",
    "        \n",
    "        tmp = len(parsed_speeches[i][j].split())\n",
    "        if longest_sentence < tmp:\n",
    "            longest_sentence = tmp\n",
    "            \n",
    "        else:\n",
    "            shortest_sentence = tmp\n",
    "            \n",
    "    total_words[i] = count\n",
    "    average[i] =  total_words[i] / len(parsed_speeches[i])\n",
    "    "
   ]
  },
  {
   "cell_type": "code",
   "execution_count": 13,
   "metadata": {},
   "outputs": [
    {
     "data": {
      "image/png": "[encoded data removed]",
      "text/plain": [
       "<matplotlib.figure.Figure at 0x110404390>"
      ]
     },
     "metadata": {},
     "output_type": "display_data"
    }
   ],
   "source": [
    "sentence_parameters = linear_regression(year, average)\n",
    "model_sentence_avg = sentence_parameters[1] * year + sentence_parameters[0]\n",
    "\n",
    "# plotting \n",
    "plt.figure(dpi=100)\n",
    "plt.scatter(year, average)\n",
    "plt.plot(year, model_sentence_avg, c='orange')\n",
    "plt.xlabel('Year')\n",
    "plt.ylabel('Average Sentence Length')\n",
    "#plt.title('Average sentence length in SOU speeches')\n",
    "plt.show()"
   ]
  },
  {
   "cell_type": "markdown",
   "metadata": {},
   "source": [
    "There's a decreasing trend on the average sentence length."
   ]
  },
  {
   "cell_type": "markdown",
   "metadata": {},
   "source": [
    "### Part c)"
   ]
  },
  {
   "cell_type": "code",
   "execution_count": 14,
   "metadata": {},
   "outputs": [],
   "source": [
    "first_half  = np.where(year < 1913)\n",
    "second_half = np.where(year > 1912)"
   ]
  },
  {
   "cell_type": "code",
   "execution_count": 15,
   "metadata": {},
   "outputs": [
    {
     "data": {
      "image/png": "[encoded data removed]",
      "text/plain": [
       "<matplotlib.figure.Figure at 0x110425d30>"
      ]
     },
     "metadata": {},
     "output_type": "display_data"
    }
   ],
   "source": [
    "parameters_word_count_1st = linear_regression(year[first_half[0]], total_words[first_half])\n",
    "model_word_count_1st = parameters_word_count_1st[1] * year[first_half[0]] + parameters_word_count_1st[0]\n",
    "\n",
    "# plotting \n",
    "plt.figure(dpi=100)\n",
    "plt.scatter(year[first_half[0]], total_words[first_half])\n",
    "plt.plot(year[first_half[0]], model_word_count_1st, c='orange')\n",
    "plt.xlabel('Year')\n",
    "plt.ylabel('Total number of words')\n",
    "plt.title('Word Count in SOUs from 1790 - 1912')\n",
    "plt.show()"
   ]
  },
  {
   "cell_type": "markdown",
   "metadata": {},
   "source": [
    "Sentences are getting shorter, but the words count has been increasing."
   ]
  },
  {
   "cell_type": "code",
   "execution_count": 16,
   "metadata": {},
   "outputs": [
    {
     "data": {
      "image/png": "[encoded data removed]",
      "text/plain": [
       "<matplotlib.figure.Figure at 0x110433c18>"
      ]
     },
     "metadata": {},
     "output_type": "display_data"
    }
   ],
   "source": [
    "parameters_word_count_2nd = linear_regression(year[second_half[0]], total_words[second_half])\n",
    "model_word_count_2nd = parameters_word_count_2nd[1] * year[second_half[0]] + parameters_word_count_2nd[0]\n",
    "\n",
    "# plotting \n",
    "plt.figure(dpi=100)\n",
    "plt.scatter(year[second_half[0]], total_words[second_half])\n",
    "plt.plot(year[second_half[0]], model_word_count_2nd, c='orange')\n",
    "plt.xlabel('Year')\n",
    "plt.ylabel('Total number of words')\n",
    "plt.title('Word Count in SOUs from 1913 - 2016')\n",
    "plt.show()"
   ]
  },
  {
   "cell_type": "code",
   "execution_count": 17,
   "metadata": {},
   "outputs": [
    {
     "data": {
      "image/png": "[encoded data removed]",
      "text/plain": [
       "<matplotlib.figure.Figure at 0x110425550>"
      ]
     },
     "metadata": {},
     "output_type": "display_data"
    }
   ],
   "source": [
    "# remove two outliers\n",
    "outliers = np.where(total_words[second_half] > 2e4)\n",
    "clean_year = np.delete(year[second_half[0]], outliers)\n",
    "clean_total_words = np.delete(total_words[second_half], outliers)\n",
    "\n",
    "# new model\n",
    "new_parameters = linear_regression(clean_year, clean_total_words)\n",
    "new_model = new_parameters[1] * clean_year + new_parameters[0]\n",
    "\n",
    "# plotting\n",
    "plt.figure(dpi=100)\n",
    "plt.scatter(clean_year, clean_total_words)\n",
    "plt.plot(clean_year, new_model, c='orange')\n",
    "plt.xlabel('Year')\n",
    "plt.ylabel('Total number of words')\n",
    "#plt.title('Word Count in SOUs from 1913 - 2016 [outliers removed]')\n",
    "plt.show();"
   ]
  },
  {
   "cell_type": "markdown",
   "metadata": {},
   "source": [
    "The two outliers do not allow for a proper viewing, however, it\n",
    "<br>appears that word count for this period has been some what constant.\n",
    "<br>Radio and television could be a factor for this. Speeches now reach the entire \n",
    "<br>country so they have to appeal to the entire spectrum."
   ]
  },
  {
   "cell_type": "markdown",
   "metadata": {},
   "source": [
    "### Part d)"
   ]
  },
  {
   "cell_type": "code",
   "execution_count": 18,
   "metadata": {},
   "outputs": [
    {
     "name": "stdout",
     "output_type": "stream",
     "text": [
      "The longest sentence on average is: 50.40 words\n"
     ]
    }
   ],
   "source": [
    "print('The longest sentence on average is: {:.2f} words'.format(average.max()))"
   ]
  },
  {
   "cell_type": "code",
   "execution_count": 19,
   "metadata": {},
   "outputs": [
    {
     "name": "stdout",
     "output_type": "stream",
     "text": [
      "This corresponds to president:  James Madison\n"
     ]
    }
   ],
   "source": [
    "index = np.where(average == average.max())  # np.where returns the index of what's inside the parenthesis\n",
    "president_max = speeches[index[0][0]][0]\n",
    "print('This corresponds to president: ', president_max)"
   ]
  },
  {
   "cell_type": "code",
   "execution_count": 20,
   "metadata": {},
   "outputs": [
    {
     "name": "stdout",
     "output_type": "stream",
     "text": [
      "The shortest sentence on average is: 16.02 words\n"
     ]
    }
   ],
   "source": [
    "print('The shortest sentence on average is: {:.2f} words'.format(average.min()))"
   ]
  },
  {
   "cell_type": "code",
   "execution_count": 21,
   "metadata": {},
   "outputs": [
    {
     "name": "stdout",
     "output_type": "stream",
     "text": [
      "This corresponds to president:  George W. Bush\n"
     ]
    }
   ],
   "source": [
    "index = np.where(average == average.min())\n",
    "president_min = speeches[index[0][0]][0]\n",
    "print('This corresponds to president: ', president_min)"
   ]
  },
  {
   "cell_type": "code",
   "execution_count": 22,
   "metadata": {},
   "outputs": [
    {
     "name": "stdout",
     "output_type": "stream",
     "text": [
      "The 25% quantile is: 21.99\n",
      "The median is: 32.55\n",
      "The 75% quantile is: 37.45\n"
     ]
    }
   ],
   "source": [
    "print('The 25% quantile is: {:.2f}'.format(np.percentile(average, 25)))\n",
    "print('The median is: {:.2f}'.format(np.median(average)))\n",
    "print('The 75% quantile is: {:.2f}'.format(np.percentile(average, 75)))"
   ]
  },
  {
   "cell_type": "code",
   "execution_count": 23,
   "metadata": {},
   "outputs": [
    {
     "name": "stdout",
     "output_type": "stream",
     "text": [
      "The longest sentence ever spoken was: 585 words\n",
      "The shortest sentence ever spoken was:  2 words\n"
     ]
    }
   ],
   "source": [
    "print('The longest sentence ever spoken was:', longest_sentence, 'words')\n",
    "print('The shortest sentence ever spoken was: ', shortest_sentence, 'words')"
   ]
  },
  {
   "cell_type": "markdown",
   "metadata": {},
   "source": [
    "## Similiary Measure"
   ]
  },
  {
   "cell_type": "code",
   "execution_count": 24,
   "metadata": {},
   "outputs": [
    {
     "name": "stdout",
     "output_type": "stream",
     "text": [
      "Runtime: 872.26 ms for 1.8 million words\n"
     ]
    }
   ],
   "source": [
    "start = time.time()\n",
    "\"\"\"\n",
    "1. Parse all SOU sentences into words where words[i]\n",
    "is all the words in the ith SOU.\n",
    "2. Remove words of length less than 4\n",
    "\"\"\"\n",
    "\n",
    "words = [[]] * speech_count\n",
    "\n",
    "for i in range(speech_count):\n",
    "    tmp = []\n",
    "    sentence = []\n",
    "    for j in range(len(parsed_speeches[i])):\n",
    "        sentence.append(parsed_speeches[i][j].split())\n",
    "        \n",
    "        for k in range(len(sentence[j])):\n",
    "            tmp.append(sentence[j][k])\n",
    "    words[i] = tmp\n",
    "\n",
    "end = time.time()\n",
    "print('Runtime: {:.2f} ms for 1.8 million words'.format((end - start) * 1000))"
   ]
  },
  {
   "cell_type": "code",
   "execution_count": 25,
   "metadata": {},
   "outputs": [],
   "source": [
    "# unique - unique words per SOU\n",
    "# counts - # of times unique word appears in a SOU\n",
    "\n",
    "unique = [[]] * speech_count\n",
    "counts = [[]] * speech_count\n",
    "\n",
    "for i in range(speech_count):\n",
    "    unique[i], counts[i] = np.unique(words[i], return_counts=True) "
   ]
  },
  {
   "cell_type": "code",
   "execution_count": 26,
   "metadata": {},
   "outputs": [],
   "source": [
    "# words that appear less than 80, but more than 10 times are stored\n",
    "# with their appearance count. This is done per SOU.\n",
    "\n",
    "word_appearance = [[]] * speech_count\n",
    "for val in range(speech_count):\n",
    "    condition = []\n",
    "    condition = unique[val][(counts[val] > 10) & (counts[val] < 80)]\n",
    "    word_appearance[val] = condition"
   ]
  },
  {
   "cell_type": "code",
   "execution_count": 27,
   "metadata": {},
   "outputs": [],
   "source": [
    "from nltk.corpus import stopwords"
   ]
  },
  {
   "cell_type": "code",
   "execution_count": 28,
   "metadata": {},
   "outputs": [],
   "source": [
    "remove = np.array(stopwords.words('english'))"
   ]
  },
  {
   "cell_type": "code",
   "execution_count": 29,
   "metadata": {},
   "outputs": [],
   "source": [
    "# get unique words for the entire collection and store in pandas DataFrame\n",
    "# these words are the vocabulary\n",
    "\n",
    "series = pd.Series()\n",
    "for i in range(speech_count):\n",
    "    series = series.append(pd.Series(word_appearance[i]), ignore_index=True)\n",
    "\n",
    "\n",
    "vocabulary = series.drop_duplicates()\n",
    "vocabulary = pd.Series([word for word in vocabulary if word not in remove])\n",
    "\n",
    "df = pd.DataFrame(vocabulary.values, columns=['Word'])"
   ]
  },
  {
   "cell_type": "code",
   "execution_count": 30,
   "metadata": {},
   "outputs": [],
   "source": [
    "from collections import Counter"
   ]
  },
  {
   "cell_type": "code",
   "execution_count": 31,
   "metadata": {
    "scrolled": true
   },
   "outputs": [
    {
     "name": "stdout",
     "output_type": "stream",
     "text": [
      "Runtime: 799.13 ms\n"
     ]
    }
   ],
   "source": [
    "count_appearence = np.zeros((len(vocabulary), speech_count))\n",
    "i = 0\n",
    "start = time.time()\n",
    "\n",
    "for words_perSOU in words:\n",
    "    counter = Counter(words_perSOU)\n",
    "    counter = pd.Series(counter)\n",
    "    count_appearence[:, i] = counter[vocabulary].values\n",
    "    i += 1\n",
    "\n",
    "count_appearence[np.isnan(count_appearence)] = 0 \n",
    "end = time.time()\n",
    "print('Runtime: {:.2f} ms'.format((end - start) * 1000))"
   ]
  },
  {
   "cell_type": "code",
   "execution_count": 32,
   "metadata": {},
   "outputs": [],
   "source": [
    "# better viewing w/dataframe\n",
    "df = pd.DataFrame(count_appearence, index=vocabulary)\n",
    "df.index.name = 'word'\n",
    "df.columns.name = 'Speech'\n",
    "#df"
   ]
  },
  {
   "cell_type": "markdown",
   "metadata": {},
   "source": [
    "The TF-IDF weights are given by:\n",
    "\n",
    "$w_i(d) = n_i(d) \\log\\Big(\\frac{|D|}{\\Sigma_{d'\\in D} \\mathbb{1}(t_i \\in d')}\\Big)$\n",
    "\n",
    "where $n_i(d)$ is the number of times term $t_i$ appears in document d, 􏰂$\\Sigma_{d'\\in D} \\mathbb{1}(t_i \\in d')$ is the number of documents that contain term $t_i$, and $|D| = 􏰂\\Sigma_{d'\\in D} \\mathbb{1}$ is the total number of documents in the collection $D$. This weighting scheme favors terms that appear in few documents."
   ]
  },
  {
   "cell_type": "code",
   "execution_count": 33,
   "metadata": {},
   "outputs": [],
   "source": [
    "weights = np.zeros(count_appearence.shape)  # shape: (1153, 226)\n",
    "\n",
    "\"\"\"\n",
    "Calculate weights:\n",
    "Columns vectors are the TF-IDF per SOU\n",
    "\"\"\"\n",
    "\n",
    "for row in range(len(vocabulary)):\n",
    "    weights[row, :] = (count_appearence[row, :] * np.log(speech_count / np.count_nonzero(count_appearence[row, :])))"
   ]
  },
  {
   "cell_type": "code",
   "execution_count": 34,
   "metadata": {
    "scrolled": true
   },
   "outputs": [],
   "source": [
    "# better viewing w/dataframe\n",
    "df_weights = pd.DataFrame(weights, index=vocabulary)\n",
    "df_weights.index.name = 'word'\n",
    "df_weights.columns.name = 'Speech'\n",
    "#df_weights"
   ]
  },
  {
   "cell_type": "markdown",
   "metadata": {},
   "source": [
    "### Similarity Measure between documents\n",
    "\n",
    "sim$(d, d') = \\frac{\\textbf{w}(d) \\cdot\\textbf{w}(d')}{||\\textbf{w}(d)||  ||\\textbf{w}(d')||}$"
   ]
  },
  {
   "cell_type": "code",
   "execution_count": 35,
   "metadata": {},
   "outputs": [],
   "source": [
    "\"\"\"\n",
    "dot product between weight vectors\n",
    "calculate norm of each vector\n",
    "calculate similarity measure (symmetric matrix)\n",
    "\"\"\"\n",
    "\n",
    "dot_product = np.dot(weights.T, weights)\n",
    "norm = np.linalg.norm(weights, axis=0)\n",
    "similarity = dot_product / np.outer(norm, norm)\n",
    "similarity = np.tril(similarity)"
   ]
  },
  {
   "cell_type": "code",
   "execution_count": 36,
   "metadata": {},
   "outputs": [],
   "source": [
    "# pd.DataFrame(similarity)"
   ]
  },
  {
   "cell_type": "code",
   "execution_count": 37,
   "metadata": {},
   "outputs": [],
   "source": [
    "# index dataframe by president and data order\n",
    "original = np.arange(speech_count)\n",
    "label = [presidents, original]"
   ]
  },
  {
   "cell_type": "markdown",
   "metadata": {},
   "source": [
    "#### find 50 most similar pairs by different presidents"
   ]
  },
  {
   "cell_type": "code",
   "execution_count": 38,
   "metadata": {
    "scrolled": false
   },
   "outputs": [],
   "source": [
    "diff_presidents = pd.DataFrame(similarity, index=label, columns=label)\n",
    "diff_presidents.index.names = ['President', 'Data Order']"
   ]
  },
  {
   "cell_type": "code",
   "execution_count": 39,
   "metadata": {
    "scrolled": true
   },
   "outputs": [
    {
     "data": {
      "text/html": [
       "<div>\n",
       "<style scoped>\n",
       "    .dataframe tbody tr th:only-of-type {\n",
       "        vertical-align: middle;\n",
       "    }\n",
       "\n",
       "    .dataframe tbody tr th {\n",
       "        vertical-align: top;\n",
       "    }\n",
       "\n",
       "    .dataframe thead th {\n",
       "        text-align: right;\n",
       "    }\n",
       "</style>\n",
       "<table border=\"1\" class=\"dataframe\">\n",
       "  <thead>\n",
       "    <tr style=\"text-align: right;\">\n",
       "      <th></th>\n",
       "      <th>President/SOU Number</th>\n",
       "      <th>President/SOU Number</th>\n",
       "      <th>Similarity Value</th>\n",
       "    </tr>\n",
       "  </thead>\n",
       "  <tbody>\n",
       "    <tr>\n",
       "      <th>0</th>\n",
       "      <td>(Grover Cleveland, 85)</td>\n",
       "      <td>(Benjamin Harrison, 43)</td>\n",
       "      <td>0.719128</td>\n",
       "    </tr>\n",
       "    <tr>\n",
       "      <th>1</th>\n",
       "      <td>(George Bush, 114)</td>\n",
       "      <td>(Ronald Reagan, 89)</td>\n",
       "      <td>0.706472</td>\n",
       "    </tr>\n",
       "    <tr>\n",
       "      <th>2</th>\n",
       "      <td>(John Tyler, 124)</td>\n",
       "      <td>(James K. Polk, 53)</td>\n",
       "      <td>0.695176</td>\n",
       "    </tr>\n",
       "    <tr>\n",
       "      <th>3</th>\n",
       "      <td>(George Bush, 177)</td>\n",
       "      <td>(William J. Clinton, 71)</td>\n",
       "      <td>0.688252</td>\n",
       "    </tr>\n",
       "    <tr>\n",
       "      <th>4</th>\n",
       "      <td>(Gerald R. Ford, 218)</td>\n",
       "      <td>(Ronald Reagan, 169)</td>\n",
       "      <td>0.684655</td>\n",
       "    </tr>\n",
       "    <tr>\n",
       "      <th>5</th>\n",
       "      <td>(William J. Clinton, 71)</td>\n",
       "      <td>(Barack Obama, 22)</td>\n",
       "      <td>0.682273</td>\n",
       "    </tr>\n",
       "    <tr>\n",
       "      <th>6</th>\n",
       "      <td>(Grover Cleveland, 85)</td>\n",
       "      <td>(Rutherford B. Hayes, 45)</td>\n",
       "      <td>0.681560</td>\n",
       "    </tr>\n",
       "    <tr>\n",
       "      <th>7</th>\n",
       "      <td>(Rutherford B. Hayes, 147)</td>\n",
       "      <td>(Grover Cleveland, 85)</td>\n",
       "      <td>0.681228</td>\n",
       "    </tr>\n",
       "    <tr>\n",
       "      <th>8</th>\n",
       "      <td>(William J. Clinton, 196)</td>\n",
       "      <td>(Barack Obama, 91)</td>\n",
       "      <td>0.674405</td>\n",
       "    </tr>\n",
       "    <tr>\n",
       "      <th>9</th>\n",
       "      <td>(William J. Clinton, 196)</td>\n",
       "      <td>(Barack Obama, 38)</td>\n",
       "      <td>0.672663</td>\n",
       "    </tr>\n",
       "    <tr>\n",
       "      <th>10</th>\n",
       "      <td>(James K. Polk, 152)</td>\n",
       "      <td>(John Tyler, 124)</td>\n",
       "      <td>0.659965</td>\n",
       "    </tr>\n",
       "    <tr>\n",
       "      <th>11</th>\n",
       "      <td>(Barack Obama, 91)</td>\n",
       "      <td>(William J. Clinton, 48)</td>\n",
       "      <td>0.658329</td>\n",
       "    </tr>\n",
       "    <tr>\n",
       "      <th>12</th>\n",
       "      <td>(Chester A. Arthur, 213)</td>\n",
       "      <td>(Grover Cleveland, 5)</td>\n",
       "      <td>0.653910</td>\n",
       "    </tr>\n",
       "    <tr>\n",
       "      <th>13</th>\n",
       "      <td>(James Buchanan, 202)</td>\n",
       "      <td>(Franklin Pierce, 13)</td>\n",
       "      <td>0.652607</td>\n",
       "    </tr>\n",
       "    <tr>\n",
       "      <th>14</th>\n",
       "      <td>(Chester A. Arthur, 213)</td>\n",
       "      <td>(Grover Cleveland, 72)</td>\n",
       "      <td>0.652234</td>\n",
       "    </tr>\n",
       "    <tr>\n",
       "      <th>15</th>\n",
       "      <td>(Andrew Jackson, 73)</td>\n",
       "      <td>(Martin Van Buren, 34)</td>\n",
       "      <td>0.651550</td>\n",
       "    </tr>\n",
       "    <tr>\n",
       "      <th>16</th>\n",
       "      <td>(Barack Obama, 91)</td>\n",
       "      <td>(William J. Clinton, 71)</td>\n",
       "      <td>0.651061</td>\n",
       "    </tr>\n",
       "    <tr>\n",
       "      <th>17</th>\n",
       "      <td>(Grover Cleveland, 225)</td>\n",
       "      <td>(Chester A. Arthur, 197)</td>\n",
       "      <td>0.646688</td>\n",
       "    </tr>\n",
       "    <tr>\n",
       "      <th>18</th>\n",
       "      <td>(Rutherford B. Hayes, 147)</td>\n",
       "      <td>(Benjamin Harrison, 43)</td>\n",
       "      <td>0.645576</td>\n",
       "    </tr>\n",
       "    <tr>\n",
       "      <th>19</th>\n",
       "      <td>(Chester A. Arthur, 197)</td>\n",
       "      <td>(Benjamin Harrison, 166)</td>\n",
       "      <td>0.644425</td>\n",
       "    </tr>\n",
       "    <tr>\n",
       "      <th>20</th>\n",
       "      <td>(William J. Clinton, 196)</td>\n",
       "      <td>(Barack Obama, 22)</td>\n",
       "      <td>0.644077</td>\n",
       "    </tr>\n",
       "    <tr>\n",
       "      <th>21</th>\n",
       "      <td>(George W. Bush, 172)</td>\n",
       "      <td>(William J. Clinton, 57)</td>\n",
       "      <td>0.642873</td>\n",
       "    </tr>\n",
       "    <tr>\n",
       "      <th>22</th>\n",
       "      <td>(Grover Cleveland, 225)</td>\n",
       "      <td>(Chester A. Arthur, 213)</td>\n",
       "      <td>0.641553</td>\n",
       "    </tr>\n",
       "    <tr>\n",
       "      <th>23</th>\n",
       "      <td>(George Bush, 114)</td>\n",
       "      <td>(Ronald Reagan, 62)</td>\n",
       "      <td>0.640986</td>\n",
       "    </tr>\n",
       "    <tr>\n",
       "      <th>24</th>\n",
       "      <td>(George Bush, 114)</td>\n",
       "      <td>(William J. Clinton, 57)</td>\n",
       "      <td>0.639483</td>\n",
       "    </tr>\n",
       "    <tr>\n",
       "      <th>25</th>\n",
       "      <td>(Chester A. Arthur, 179)</td>\n",
       "      <td>(Grover Cleveland, 85)</td>\n",
       "      <td>0.639252</td>\n",
       "    </tr>\n",
       "    <tr>\n",
       "      <th>26</th>\n",
       "      <td>(Zachary Taylor, 173)</td>\n",
       "      <td>(Millard Fillmore, 76)</td>\n",
       "      <td>0.637905</td>\n",
       "    </tr>\n",
       "    <tr>\n",
       "      <th>27</th>\n",
       "      <td>(Grover Cleveland, 225)</td>\n",
       "      <td>(Rutherford B. Hayes, 127)</td>\n",
       "      <td>0.637341</td>\n",
       "    </tr>\n",
       "    <tr>\n",
       "      <th>28</th>\n",
       "      <td>(Harry S Truman, 176)</td>\n",
       "      <td>(Dwight D. Eisenhower, 88)</td>\n",
       "      <td>0.635851</td>\n",
       "    </tr>\n",
       "    <tr>\n",
       "      <th>29</th>\n",
       "      <td>(George Bush, 114)</td>\n",
       "      <td>(William J. Clinton, 66)</td>\n",
       "      <td>0.635336</td>\n",
       "    </tr>\n",
       "    <tr>\n",
       "      <th>30</th>\n",
       "      <td>(William J. Clinton, 196)</td>\n",
       "      <td>(Barack Obama, 138)</td>\n",
       "      <td>0.635004</td>\n",
       "    </tr>\n",
       "    <tr>\n",
       "      <th>31</th>\n",
       "      <td>(George Bush, 114)</td>\n",
       "      <td>(William J. Clinton, 48)</td>\n",
       "      <td>0.634905</td>\n",
       "    </tr>\n",
       "    <tr>\n",
       "      <th>32</th>\n",
       "      <td>(Millard Fillmore, 76)</td>\n",
       "      <td>(James K. Polk, 9)</td>\n",
       "      <td>0.633579</td>\n",
       "    </tr>\n",
       "    <tr>\n",
       "      <th>33</th>\n",
       "      <td>(Barack Obama, 138)</td>\n",
       "      <td>(William J. Clinton, 71)</td>\n",
       "      <td>0.627349</td>\n",
       "    </tr>\n",
       "    <tr>\n",
       "      <th>34</th>\n",
       "      <td>(William J. Clinton, 196)</td>\n",
       "      <td>(George Bush, 177)</td>\n",
       "      <td>0.626445</td>\n",
       "    </tr>\n",
       "    <tr>\n",
       "      <th>35</th>\n",
       "      <td>(Ronald Reagan, 164)</td>\n",
       "      <td>(George Bush, 114)</td>\n",
       "      <td>0.622815</td>\n",
       "    </tr>\n",
       "    <tr>\n",
       "      <th>36</th>\n",
       "      <td>(Rutherford B. Hayes, 127)</td>\n",
       "      <td>(Grover Cleveland, 5)</td>\n",
       "      <td>0.622414</td>\n",
       "    </tr>\n",
       "    <tr>\n",
       "      <th>37</th>\n",
       "      <td>(George Bush, 194)</td>\n",
       "      <td>(Ronald Reagan, 31)</td>\n",
       "      <td>0.621460</td>\n",
       "    </tr>\n",
       "    <tr>\n",
       "      <th>38</th>\n",
       "      <td>(William J. Clinton, 71)</td>\n",
       "      <td>(Barack Obama, 38)</td>\n",
       "      <td>0.619459</td>\n",
       "    </tr>\n",
       "    <tr>\n",
       "      <th>39</th>\n",
       "      <td>(Benjamin Harrison, 184)</td>\n",
       "      <td>(Grover Cleveland, 85)</td>\n",
       "      <td>0.619383</td>\n",
       "    </tr>\n",
       "    <tr>\n",
       "      <th>40</th>\n",
       "      <td>(William J. Clinton, 48)</td>\n",
       "      <td>(Barack Obama, 38)</td>\n",
       "      <td>0.618507</td>\n",
       "    </tr>\n",
       "    <tr>\n",
       "      <th>41</th>\n",
       "      <td>(Andrew Jackson, 144)</td>\n",
       "      <td>(Martin Van Buren, 116)</td>\n",
       "      <td>0.618506</td>\n",
       "    </tr>\n",
       "    <tr>\n",
       "      <th>42</th>\n",
       "      <td>(John Quincy Adams, 195)</td>\n",
       "      <td>(James Monroe, 136)</td>\n",
       "      <td>0.617047</td>\n",
       "    </tr>\n",
       "    <tr>\n",
       "      <th>43</th>\n",
       "      <td>(George W. Bush, 141)</td>\n",
       "      <td>(Barack Obama, 91)</td>\n",
       "      <td>0.616951</td>\n",
       "    </tr>\n",
       "    <tr>\n",
       "      <th>44</th>\n",
       "      <td>(George Bush, 114)</td>\n",
       "      <td>(Ronald Reagan, 31)</td>\n",
       "      <td>0.615305</td>\n",
       "    </tr>\n",
       "    <tr>\n",
       "      <th>45</th>\n",
       "      <td>(Chester A. Arthur, 179)</td>\n",
       "      <td>(Benjamin Harrison, 43)</td>\n",
       "      <td>0.614272</td>\n",
       "    </tr>\n",
       "    <tr>\n",
       "      <th>46</th>\n",
       "      <td>(George Bush, 194)</td>\n",
       "      <td>(William J. Clinton, 48)</td>\n",
       "      <td>0.614020</td>\n",
       "    </tr>\n",
       "    <tr>\n",
       "      <th>47</th>\n",
       "      <td>(Chester A. Arthur, 213)</td>\n",
       "      <td>(Rutherford B. Hayes, 127)</td>\n",
       "      <td>0.612148</td>\n",
       "    </tr>\n",
       "    <tr>\n",
       "      <th>48</th>\n",
       "      <td>(Benjamin Harrison, 43)</td>\n",
       "      <td>(Grover Cleveland, 5)</td>\n",
       "      <td>0.611982</td>\n",
       "    </tr>\n",
       "    <tr>\n",
       "      <th>49</th>\n",
       "      <td>(Grover Cleveland, 72)</td>\n",
       "      <td>(Benjamin Harrison, 43)</td>\n",
       "      <td>0.611446</td>\n",
       "    </tr>\n",
       "  </tbody>\n",
       "</table>\n",
       "</div>"
      ],
      "text/plain": [
       "          President/SOU Number        President/SOU Number  Similarity Value\n",
       "0       (Grover Cleveland, 85)     (Benjamin Harrison, 43)          0.719128\n",
       "1           (George Bush, 114)         (Ronald Reagan, 89)          0.706472\n",
       "2            (John Tyler, 124)         (James K. Polk, 53)          0.695176\n",
       "3           (George Bush, 177)    (William J. Clinton, 71)          0.688252\n",
       "4        (Gerald R. Ford, 218)        (Ronald Reagan, 169)          0.684655\n",
       "5     (William J. Clinton, 71)          (Barack Obama, 22)          0.682273\n",
       "6       (Grover Cleveland, 85)   (Rutherford B. Hayes, 45)          0.681560\n",
       "7   (Rutherford B. Hayes, 147)      (Grover Cleveland, 85)          0.681228\n",
       "8    (William J. Clinton, 196)          (Barack Obama, 91)          0.674405\n",
       "9    (William J. Clinton, 196)          (Barack Obama, 38)          0.672663\n",
       "10        (James K. Polk, 152)           (John Tyler, 124)          0.659965\n",
       "11          (Barack Obama, 91)    (William J. Clinton, 48)          0.658329\n",
       "12    (Chester A. Arthur, 213)       (Grover Cleveland, 5)          0.653910\n",
       "13       (James Buchanan, 202)       (Franklin Pierce, 13)          0.652607\n",
       "14    (Chester A. Arthur, 213)      (Grover Cleveland, 72)          0.652234\n",
       "15        (Andrew Jackson, 73)      (Martin Van Buren, 34)          0.651550\n",
       "16          (Barack Obama, 91)    (William J. Clinton, 71)          0.651061\n",
       "17     (Grover Cleveland, 225)    (Chester A. Arthur, 197)          0.646688\n",
       "18  (Rutherford B. Hayes, 147)     (Benjamin Harrison, 43)          0.645576\n",
       "19    (Chester A. Arthur, 197)    (Benjamin Harrison, 166)          0.644425\n",
       "20   (William J. Clinton, 196)          (Barack Obama, 22)          0.644077\n",
       "21       (George W. Bush, 172)    (William J. Clinton, 57)          0.642873\n",
       "22     (Grover Cleveland, 225)    (Chester A. Arthur, 213)          0.641553\n",
       "23          (George Bush, 114)         (Ronald Reagan, 62)          0.640986\n",
       "24          (George Bush, 114)    (William J. Clinton, 57)          0.639483\n",
       "25    (Chester A. Arthur, 179)      (Grover Cleveland, 85)          0.639252\n",
       "26       (Zachary Taylor, 173)      (Millard Fillmore, 76)          0.637905\n",
       "27     (Grover Cleveland, 225)  (Rutherford B. Hayes, 127)          0.637341\n",
       "28       (Harry S Truman, 176)  (Dwight D. Eisenhower, 88)          0.635851\n",
       "29          (George Bush, 114)    (William J. Clinton, 66)          0.635336\n",
       "30   (William J. Clinton, 196)         (Barack Obama, 138)          0.635004\n",
       "31          (George Bush, 114)    (William J. Clinton, 48)          0.634905\n",
       "32      (Millard Fillmore, 76)          (James K. Polk, 9)          0.633579\n",
       "33         (Barack Obama, 138)    (William J. Clinton, 71)          0.627349\n",
       "34   (William J. Clinton, 196)          (George Bush, 177)          0.626445\n",
       "35        (Ronald Reagan, 164)          (George Bush, 114)          0.622815\n",
       "36  (Rutherford B. Hayes, 127)       (Grover Cleveland, 5)          0.622414\n",
       "37          (George Bush, 194)         (Ronald Reagan, 31)          0.621460\n",
       "38    (William J. Clinton, 71)          (Barack Obama, 38)          0.619459\n",
       "39    (Benjamin Harrison, 184)      (Grover Cleveland, 85)          0.619383\n",
       "40    (William J. Clinton, 48)          (Barack Obama, 38)          0.618507\n",
       "41       (Andrew Jackson, 144)     (Martin Van Buren, 116)          0.618506\n",
       "42    (John Quincy Adams, 195)         (James Monroe, 136)          0.617047\n",
       "43       (George W. Bush, 141)          (Barack Obama, 91)          0.616951\n",
       "44          (George Bush, 114)         (Ronald Reagan, 31)          0.615305\n",
       "45    (Chester A. Arthur, 179)     (Benjamin Harrison, 43)          0.614272\n",
       "46          (George Bush, 194)    (William J. Clinton, 48)          0.614020\n",
       "47    (Chester A. Arthur, 213)  (Rutherford B. Hayes, 127)          0.612148\n",
       "48     (Benjamin Harrison, 43)       (Grover Cleveland, 5)          0.611982\n",
       "49      (Grover Cleveland, 72)     (Benjamin Harrison, 43)          0.611446"
      ]
     },
     "execution_count": 39,
     "metadata": {},
     "output_type": "execute_result"
    }
   ],
   "source": [
    "# set pairs of same presidents to 0\n",
    "\n",
    "pres_list = np.unique(presidents)\n",
    "for i in range(len(pres_list)):\n",
    "    diff_presidents.at[pres_list[i], pres_list[i]] = 0 \n",
    "\n",
    "diff_pair = np.ravel(np.array(diff_presidents))\n",
    "diff_pair.sort()\n",
    "diff_pair = diff_pair[::-1][:50]  # reverse sort order and get the first 50 elements\n",
    "\n",
    "# where are these values\n",
    "\n",
    "location = np.zeros((50, 2))\n",
    "# pairs and their values\n",
    "\n",
    "different = []\n",
    "for i in range(50):\n",
    "    location[i] = np.where(diff_presidents == diff_pair[i])\n",
    "    \n",
    "    different.append([diff_presidents.index[int(location[i][0])], \n",
    "                      diff_presidents.index[int(location[i][1])], \n",
    "                      diff_pair[i]])\n",
    "    \n",
    "different = pd.DataFrame(different, columns=['President/SOU Number', 'President/SOU Number',\n",
    "                                    'Similarity Value'])\n",
    "different"
   ]
  },
  {
   "cell_type": "markdown",
   "metadata": {},
   "source": [
    "#### find 50 most similar pairs by same presidents"
   ]
  },
  {
   "cell_type": "code",
   "execution_count": 40,
   "metadata": {},
   "outputs": [],
   "source": [
    "similarity = dot_product / np.outer(norm, norm)\n",
    "similarity = np.tril(similarity)\n",
    "\n",
    "same_president = pd.DataFrame(similarity, index=label, columns=label)\n",
    "same_president.index.names = ['President', 'Data Order']"
   ]
  },
  {
   "cell_type": "code",
   "execution_count": 41,
   "metadata": {},
   "outputs": [],
   "source": [
    "# get values of same president\n",
    "tmp = np.array([])  #len(pres_list)\n",
    "same_pair = np.array([]) \n",
    "for i in range(len(pres_list)):\n",
    "    tmp = same_president.loc[pres_list[i], pres_list[i]].values.ravel()\n",
    "    same_pair = np.append(same_pair, tmp)\n",
    "\n",
    "ind = np.nonzero(same_pair)\n",
    "same_pair = same_pair[ind]\n",
    "same_pair = same_pair[~np.isclose(same_pair, 1)]\n",
    "same_pair.sort()\n",
    "same_pair = same_pair[::-1][:50]"
   ]
  },
  {
   "cell_type": "code",
   "execution_count": 42,
   "metadata": {
    "scrolled": true
   },
   "outputs": [
    {
     "data": {
      "text/html": [
       "<div>\n",
       "<style scoped>\n",
       "    .dataframe tbody tr th:only-of-type {\n",
       "        vertical-align: middle;\n",
       "    }\n",
       "\n",
       "    .dataframe tbody tr th {\n",
       "        vertical-align: top;\n",
       "    }\n",
       "\n",
       "    .dataframe thead th {\n",
       "        text-align: right;\n",
       "    }\n",
       "</style>\n",
       "<table border=\"1\" class=\"dataframe\">\n",
       "  <thead>\n",
       "    <tr style=\"text-align: right;\">\n",
       "      <th></th>\n",
       "      <th>President/SOU Number</th>\n",
       "      <th>President/SOU Number</th>\n",
       "      <th>Similarity Value</th>\n",
       "    </tr>\n",
       "  </thead>\n",
       "  <tbody>\n",
       "    <tr>\n",
       "      <th>0</th>\n",
       "      <td>(George W. Bush, 200)</td>\n",
       "      <td>(George W. Bush, 143)</td>\n",
       "      <td>0.850321</td>\n",
       "    </tr>\n",
       "    <tr>\n",
       "      <th>1</th>\n",
       "      <td>(Lyndon B. Johnson, 153)</td>\n",
       "      <td>(Lyndon B. Johnson, 29)</td>\n",
       "      <td>0.831979</td>\n",
       "    </tr>\n",
       "    <tr>\n",
       "      <th>2</th>\n",
       "      <td>(James Madison, 146)</td>\n",
       "      <td>(James Madison, 99)</td>\n",
       "      <td>0.807939</td>\n",
       "    </tr>\n",
       "    <tr>\n",
       "      <th>3</th>\n",
       "      <td>(William J. Clinton, 66)</td>\n",
       "      <td>(William J. Clinton, 48)</td>\n",
       "      <td>0.803246</td>\n",
       "    </tr>\n",
       "    <tr>\n",
       "      <th>4</th>\n",
       "      <td>(Barack Obama, 138)</td>\n",
       "      <td>(Barack Obama, 22)</td>\n",
       "      <td>0.801083</td>\n",
       "    </tr>\n",
       "    <tr>\n",
       "      <th>5</th>\n",
       "      <td>(Barack Obama, 138)</td>\n",
       "      <td>(Barack Obama, 91)</td>\n",
       "      <td>0.781069</td>\n",
       "    </tr>\n",
       "    <tr>\n",
       "      <th>6</th>\n",
       "      <td>(William J. Clinton, 66)</td>\n",
       "      <td>(William J. Clinton, 57)</td>\n",
       "      <td>0.780571</td>\n",
       "    </tr>\n",
       "    <tr>\n",
       "      <th>7</th>\n",
       "      <td>(Dwight D. Eisenhower, 88)</td>\n",
       "      <td>(Dwight D. Eisenhower, 11)</td>\n",
       "      <td>0.764884</td>\n",
       "    </tr>\n",
       "    <tr>\n",
       "      <th>8</th>\n",
       "      <td>(Barack Obama, 38)</td>\n",
       "      <td>(Barack Obama, 22)</td>\n",
       "      <td>0.761954</td>\n",
       "    </tr>\n",
       "    <tr>\n",
       "      <th>9</th>\n",
       "      <td>(William J. Clinton, 222)</td>\n",
       "      <td>(William J. Clinton, 57)</td>\n",
       "      <td>0.760752</td>\n",
       "    </tr>\n",
       "    <tr>\n",
       "      <th>10</th>\n",
       "      <td>(Dwight D. Eisenhower, 167)</td>\n",
       "      <td>(Dwight D. Eisenhower, 11)</td>\n",
       "      <td>0.758519</td>\n",
       "    </tr>\n",
       "    <tr>\n",
       "      <th>11</th>\n",
       "      <td>(Barack Obama, 91)</td>\n",
       "      <td>(Barack Obama, 22)</td>\n",
       "      <td>0.757928</td>\n",
       "    </tr>\n",
       "    <tr>\n",
       "      <th>12</th>\n",
       "      <td>(Dwight D. Eisenhower, 167)</td>\n",
       "      <td>(Dwight D. Eisenhower, 88)</td>\n",
       "      <td>0.756891</td>\n",
       "    </tr>\n",
       "    <tr>\n",
       "      <th>13</th>\n",
       "      <td>(William J. Clinton, 57)</td>\n",
       "      <td>(William J. Clinton, 48)</td>\n",
       "      <td>0.756076</td>\n",
       "    </tr>\n",
       "    <tr>\n",
       "      <th>14</th>\n",
       "      <td>(George W. Bush, 189)</td>\n",
       "      <td>(George W. Bush, 143)</td>\n",
       "      <td>0.755620</td>\n",
       "    </tr>\n",
       "    <tr>\n",
       "      <th>15</th>\n",
       "      <td>(George W. Bush, 209)</td>\n",
       "      <td>(George W. Bush, 141)</td>\n",
       "      <td>0.755587</td>\n",
       "    </tr>\n",
       "    <tr>\n",
       "      <th>16</th>\n",
       "      <td>(George W. Bush, 143)</td>\n",
       "      <td>(George W. Bush, 141)</td>\n",
       "      <td>0.754035</td>\n",
       "    </tr>\n",
       "    <tr>\n",
       "      <th>17</th>\n",
       "      <td>(George W. Bush, 209)</td>\n",
       "      <td>(George W. Bush, 189)</td>\n",
       "      <td>0.752704</td>\n",
       "    </tr>\n",
       "    <tr>\n",
       "      <th>18</th>\n",
       "      <td>(Ronald Reagan, 169)</td>\n",
       "      <td>(Ronald Reagan, 58)</td>\n",
       "      <td>0.742232</td>\n",
       "    </tr>\n",
       "    <tr>\n",
       "      <th>19</th>\n",
       "      <td>(William J. Clinton, 222)</td>\n",
       "      <td>(William J. Clinton, 48)</td>\n",
       "      <td>0.739349</td>\n",
       "    </tr>\n",
       "    <tr>\n",
       "      <th>20</th>\n",
       "      <td>(George W. Bush, 209)</td>\n",
       "      <td>(George W. Bush, 143)</td>\n",
       "      <td>0.736688</td>\n",
       "    </tr>\n",
       "    <tr>\n",
       "      <th>21</th>\n",
       "      <td>(Lyndon B. Johnson, 170)</td>\n",
       "      <td>(Lyndon B. Johnson, 153)</td>\n",
       "      <td>0.735311</td>\n",
       "    </tr>\n",
       "    <tr>\n",
       "      <th>22</th>\n",
       "      <td>(James Madison, 99)</td>\n",
       "      <td>(James Madison, 96)</td>\n",
       "      <td>0.731554</td>\n",
       "    </tr>\n",
       "    <tr>\n",
       "      <th>23</th>\n",
       "      <td>(Andrew Jackson, 111)</td>\n",
       "      <td>(Andrew Jackson, 106)</td>\n",
       "      <td>0.727964</td>\n",
       "    </tr>\n",
       "    <tr>\n",
       "      <th>24</th>\n",
       "      <td>(Grover Cleveland, 225)</td>\n",
       "      <td>(Grover Cleveland, 5)</td>\n",
       "      <td>0.727890</td>\n",
       "    </tr>\n",
       "    <tr>\n",
       "      <th>25</th>\n",
       "      <td>(George W. Bush, 189)</td>\n",
       "      <td>(George W. Bush, 141)</td>\n",
       "      <td>0.726965</td>\n",
       "    </tr>\n",
       "    <tr>\n",
       "      <th>26</th>\n",
       "      <td>(Franklin D. Roosevelt, 160)</td>\n",
       "      <td>(Franklin D. Roosevelt, 98)</td>\n",
       "      <td>0.724167</td>\n",
       "    </tr>\n",
       "    <tr>\n",
       "      <th>27</th>\n",
       "      <td>(George W. Bush, 209)</td>\n",
       "      <td>(George W. Bush, 200)</td>\n",
       "      <td>0.721178</td>\n",
       "    </tr>\n",
       "    <tr>\n",
       "      <th>28</th>\n",
       "      <td>(Chester A. Arthur, 213)</td>\n",
       "      <td>(Chester A. Arthur, 197)</td>\n",
       "      <td>0.720866</td>\n",
       "    </tr>\n",
       "    <tr>\n",
       "      <th>29</th>\n",
       "      <td>(William Howard Taft, 151)</td>\n",
       "      <td>(William Howard Taft, 119)</td>\n",
       "      <td>0.719963</td>\n",
       "    </tr>\n",
       "    <tr>\n",
       "      <th>30</th>\n",
       "      <td>(George W. Bush, 200)</td>\n",
       "      <td>(George W. Bush, 141)</td>\n",
       "      <td>0.719516</td>\n",
       "    </tr>\n",
       "    <tr>\n",
       "      <th>31</th>\n",
       "      <td>(Andrew Jackson, 112)</td>\n",
       "      <td>(Andrew Jackson, 111)</td>\n",
       "      <td>0.718534</td>\n",
       "    </tr>\n",
       "    <tr>\n",
       "      <th>32</th>\n",
       "      <td>(William J. Clinton, 196)</td>\n",
       "      <td>(William J. Clinton, 71)</td>\n",
       "      <td>0.718148</td>\n",
       "    </tr>\n",
       "    <tr>\n",
       "      <th>33</th>\n",
       "      <td>(Rutherford B. Hayes, 147)</td>\n",
       "      <td>(Rutherford B. Hayes, 92)</td>\n",
       "      <td>0.717428</td>\n",
       "    </tr>\n",
       "    <tr>\n",
       "      <th>34</th>\n",
       "      <td>(William J. Clinton, 71)</td>\n",
       "      <td>(William J. Clinton, 50)</td>\n",
       "      <td>0.717032</td>\n",
       "    </tr>\n",
       "    <tr>\n",
       "      <th>35</th>\n",
       "      <td>(Lyndon B. Johnson, 170)</td>\n",
       "      <td>(Lyndon B. Johnson, 29)</td>\n",
       "      <td>0.716159</td>\n",
       "    </tr>\n",
       "    <tr>\n",
       "      <th>36</th>\n",
       "      <td>(William J. Clinton, 210)</td>\n",
       "      <td>(William J. Clinton, 66)</td>\n",
       "      <td>0.714838</td>\n",
       "    </tr>\n",
       "    <tr>\n",
       "      <th>37</th>\n",
       "      <td>(Ronald Reagan, 164)</td>\n",
       "      <td>(Ronald Reagan, 62)</td>\n",
       "      <td>0.712894</td>\n",
       "    </tr>\n",
       "    <tr>\n",
       "      <th>38</th>\n",
       "      <td>(Grover Cleveland, 134)</td>\n",
       "      <td>(Grover Cleveland, 72)</td>\n",
       "      <td>0.705699</td>\n",
       "    </tr>\n",
       "    <tr>\n",
       "      <th>39</th>\n",
       "      <td>(Andrew Jackson, 128)</td>\n",
       "      <td>(Andrew Jackson, 83)</td>\n",
       "      <td>0.705485</td>\n",
       "    </tr>\n",
       "    <tr>\n",
       "      <th>40</th>\n",
       "      <td>(William J. Clinton, 222)</td>\n",
       "      <td>(William J. Clinton, 66)</td>\n",
       "      <td>0.704174</td>\n",
       "    </tr>\n",
       "    <tr>\n",
       "      <th>41</th>\n",
       "      <td>(Grover Cleveland, 85)</td>\n",
       "      <td>(Grover Cleveland, 5)</td>\n",
       "      <td>0.700942</td>\n",
       "    </tr>\n",
       "    <tr>\n",
       "      <th>42</th>\n",
       "      <td>(Andrew Johnson, 192)</td>\n",
       "      <td>(Andrew Johnson, 16)</td>\n",
       "      <td>0.699047</td>\n",
       "    </tr>\n",
       "    <tr>\n",
       "      <th>43</th>\n",
       "      <td>(Herbert Hoover, 154)</td>\n",
       "      <td>(Herbert Hoover, 84)</td>\n",
       "      <td>0.698534</td>\n",
       "    </tr>\n",
       "    <tr>\n",
       "      <th>44</th>\n",
       "      <td>(Theodore Roosevelt, 24)</td>\n",
       "      <td>(Theodore Roosevelt, 23)</td>\n",
       "      <td>0.698378</td>\n",
       "    </tr>\n",
       "    <tr>\n",
       "      <th>45</th>\n",
       "      <td>(William Howard Taft, 119)</td>\n",
       "      <td>(William Howard Taft, 104)</td>\n",
       "      <td>0.696597</td>\n",
       "    </tr>\n",
       "    <tr>\n",
       "      <th>46</th>\n",
       "      <td>(William McKinley, 207)</td>\n",
       "      <td>(William McKinley, 191)</td>\n",
       "      <td>0.696347</td>\n",
       "    </tr>\n",
       "    <tr>\n",
       "      <th>47</th>\n",
       "      <td>(George W. Bush, 200)</td>\n",
       "      <td>(George W. Bush, 189)</td>\n",
       "      <td>0.695654</td>\n",
       "    </tr>\n",
       "    <tr>\n",
       "      <th>48</th>\n",
       "      <td>(William Howard Taft, 151)</td>\n",
       "      <td>(William Howard Taft, 104)</td>\n",
       "      <td>0.694516</td>\n",
       "    </tr>\n",
       "    <tr>\n",
       "      <th>49</th>\n",
       "      <td>(Barack Obama, 91)</td>\n",
       "      <td>(Barack Obama, 38)</td>\n",
       "      <td>0.690030</td>\n",
       "    </tr>\n",
       "  </tbody>\n",
       "</table>\n",
       "</div>"
      ],
      "text/plain": [
       "            President/SOU Number         President/SOU Number  \\\n",
       "0          (George W. Bush, 200)        (George W. Bush, 143)   \n",
       "1       (Lyndon B. Johnson, 153)      (Lyndon B. Johnson, 29)   \n",
       "2           (James Madison, 146)          (James Madison, 99)   \n",
       "3       (William J. Clinton, 66)     (William J. Clinton, 48)   \n",
       "4            (Barack Obama, 138)           (Barack Obama, 22)   \n",
       "5            (Barack Obama, 138)           (Barack Obama, 91)   \n",
       "6       (William J. Clinton, 66)     (William J. Clinton, 57)   \n",
       "7     (Dwight D. Eisenhower, 88)   (Dwight D. Eisenhower, 11)   \n",
       "8             (Barack Obama, 38)           (Barack Obama, 22)   \n",
       "9      (William J. Clinton, 222)     (William J. Clinton, 57)   \n",
       "10   (Dwight D. Eisenhower, 167)   (Dwight D. Eisenhower, 11)   \n",
       "11            (Barack Obama, 91)           (Barack Obama, 22)   \n",
       "12   (Dwight D. Eisenhower, 167)   (Dwight D. Eisenhower, 88)   \n",
       "13      (William J. Clinton, 57)     (William J. Clinton, 48)   \n",
       "14         (George W. Bush, 189)        (George W. Bush, 143)   \n",
       "15         (George W. Bush, 209)        (George W. Bush, 141)   \n",
       "16         (George W. Bush, 143)        (George W. Bush, 141)   \n",
       "17         (George W. Bush, 209)        (George W. Bush, 189)   \n",
       "18          (Ronald Reagan, 169)          (Ronald Reagan, 58)   \n",
       "19     (William J. Clinton, 222)     (William J. Clinton, 48)   \n",
       "20         (George W. Bush, 209)        (George W. Bush, 143)   \n",
       "21      (Lyndon B. Johnson, 170)     (Lyndon B. Johnson, 153)   \n",
       "22           (James Madison, 99)          (James Madison, 96)   \n",
       "23         (Andrew Jackson, 111)        (Andrew Jackson, 106)   \n",
       "24       (Grover Cleveland, 225)        (Grover Cleveland, 5)   \n",
       "25         (George W. Bush, 189)        (George W. Bush, 141)   \n",
       "26  (Franklin D. Roosevelt, 160)  (Franklin D. Roosevelt, 98)   \n",
       "27         (George W. Bush, 209)        (George W. Bush, 200)   \n",
       "28      (Chester A. Arthur, 213)     (Chester A. Arthur, 197)   \n",
       "29    (William Howard Taft, 151)   (William Howard Taft, 119)   \n",
       "30         (George W. Bush, 200)        (George W. Bush, 141)   \n",
       "31         (Andrew Jackson, 112)        (Andrew Jackson, 111)   \n",
       "32     (William J. Clinton, 196)     (William J. Clinton, 71)   \n",
       "33    (Rutherford B. Hayes, 147)    (Rutherford B. Hayes, 92)   \n",
       "34      (William J. Clinton, 71)     (William J. Clinton, 50)   \n",
       "35      (Lyndon B. Johnson, 170)      (Lyndon B. Johnson, 29)   \n",
       "36     (William J. Clinton, 210)     (William J. Clinton, 66)   \n",
       "37          (Ronald Reagan, 164)          (Ronald Reagan, 62)   \n",
       "38       (Grover Cleveland, 134)       (Grover Cleveland, 72)   \n",
       "39         (Andrew Jackson, 128)         (Andrew Jackson, 83)   \n",
       "40     (William J. Clinton, 222)     (William J. Clinton, 66)   \n",
       "41        (Grover Cleveland, 85)        (Grover Cleveland, 5)   \n",
       "42         (Andrew Johnson, 192)         (Andrew Johnson, 16)   \n",
       "43         (Herbert Hoover, 154)         (Herbert Hoover, 84)   \n",
       "44      (Theodore Roosevelt, 24)     (Theodore Roosevelt, 23)   \n",
       "45    (William Howard Taft, 119)   (William Howard Taft, 104)   \n",
       "46       (William McKinley, 207)      (William McKinley, 191)   \n",
       "47         (George W. Bush, 200)        (George W. Bush, 189)   \n",
       "48    (William Howard Taft, 151)   (William Howard Taft, 104)   \n",
       "49            (Barack Obama, 91)           (Barack Obama, 38)   \n",
       "\n",
       "    Similarity Value  \n",
       "0           0.850321  \n",
       "1           0.831979  \n",
       "2           0.807939  \n",
       "3           0.803246  \n",
       "4           0.801083  \n",
       "5           0.781069  \n",
       "6           0.780571  \n",
       "7           0.764884  \n",
       "8           0.761954  \n",
       "9           0.760752  \n",
       "10          0.758519  \n",
       "11          0.757928  \n",
       "12          0.756891  \n",
       "13          0.756076  \n",
       "14          0.755620  \n",
       "15          0.755587  \n",
       "16          0.754035  \n",
       "17          0.752704  \n",
       "18          0.742232  \n",
       "19          0.739349  \n",
       "20          0.736688  \n",
       "21          0.735311  \n",
       "22          0.731554  \n",
       "23          0.727964  \n",
       "24          0.727890  \n",
       "25          0.726965  \n",
       "26          0.724167  \n",
       "27          0.721178  \n",
       "28          0.720866  \n",
       "29          0.719963  \n",
       "30          0.719516  \n",
       "31          0.718534  \n",
       "32          0.718148  \n",
       "33          0.717428  \n",
       "34          0.717032  \n",
       "35          0.716159  \n",
       "36          0.714838  \n",
       "37          0.712894  \n",
       "38          0.705699  \n",
       "39          0.705485  \n",
       "40          0.704174  \n",
       "41          0.700942  \n",
       "42          0.699047  \n",
       "43          0.698534  \n",
       "44          0.698378  \n",
       "45          0.696597  \n",
       "46          0.696347  \n",
       "47          0.695654  \n",
       "48          0.694516  \n",
       "49          0.690030  "
      ]
     },
     "execution_count": 42,
     "metadata": {},
     "output_type": "execute_result"
    }
   ],
   "source": [
    "# where are these values\n",
    "location = np.zeros((50, 2))\n",
    "# pairs and their values\n",
    "same = []\n",
    "for i in range(50):\n",
    "    location[i] = np.where(same_president == same_pair[i])\n",
    "\n",
    "    same.append([same_president.index[int(location[i][0])],\n",
    "                 same_president.index[int(location[i][1])],\n",
    "                 same_pair[i]])\n",
    "    \n",
    "same = pd.DataFrame(same, columns=['President/SOU Number', 'President/SOU Number',\n",
    "                                    'Similarity Value'])\n",
    "same"
   ]
  },
  {
   "cell_type": "markdown",
   "metadata": {},
   "source": [
    "#### find 25 most similar pairs by Presidents\n",
    "(averaging the cosine similiary over all pairs of their SOUs"
   ]
  },
  {
   "cell_type": "code",
   "execution_count": 43,
   "metadata": {
    "scrolled": true
   },
   "outputs": [],
   "source": [
    "#same_president.loc[\"Abraham Lincoln\"]['Abraham Lincoln']"
   ]
  },
  {
   "cell_type": "code",
   "execution_count": 44,
   "metadata": {},
   "outputs": [],
   "source": [
    "#same_president.loc[\"Abraham Lincoln\"]['Abraham Lincoln'].values"
   ]
  },
  {
   "cell_type": "code",
   "execution_count": 45,
   "metadata": {},
   "outputs": [],
   "source": [
    "#same_president_pair = same_president.loc[\"Abraham Lincoln\"]['Abraham Lincoln'].values\n",
    "#same_president_pair = same_president_pair[~np.isclose(same_president_pair, 1) & (same_president_pair != 0)]\n",
    "#count = np.count_nonzero(same_president_pair)\n",
    "#val = same_president_pair.sum() / count"
   ]
  },
  {
   "cell_type": "code",
   "execution_count": null,
   "metadata": {},
   "outputs": [],
   "source": []
  },
  {
   "cell_type": "markdown",
   "metadata": {},
   "source": [
    "#### Using this vector representation, cluster the speeches using k-means"
   ]
  },
  {
   "cell_type": "code",
   "execution_count": 46,
   "metadata": {},
   "outputs": [],
   "source": [
    "from sklearn.decomposition import PCA\n",
    "from sklearn.cluster import KMeans\n",
    "from sklearn import preprocessing"
   ]
  },
  {
   "cell_type": "code",
   "execution_count": 47,
   "metadata": {},
   "outputs": [],
   "source": [
    "# zero mean and unit standard deviation\n",
    "norm_weights = preprocessing.normalize(weights.T)\n",
    "weights_scaled = preprocessing.scale(norm_weights.T)"
   ]
  },
  {
   "cell_type": "code",
   "execution_count": 48,
   "metadata": {},
   "outputs": [],
   "source": [
    "pca = PCA(n_components=2)\n",
    "decomposed_weights = pca.fit_transform(weights_scaled.T)"
   ]
  },
  {
   "cell_type": "code",
   "execution_count": 49,
   "metadata": {},
   "outputs": [
    {
     "data": {
      "image/png": "[encoded data removed]",
      "text/plain": [
       "<matplotlib.figure.Figure at 0x11e251630>"
      ]
     },
     "metadata": {},
     "output_type": "display_data"
    }
   ],
   "source": [
    "clusters = 3\n",
    "model = KMeans(n_clusters=clusters)\n",
    "SOU_clusters = model.fit(decomposed_weights)  # (n_samples, n_features)\n",
    "\n",
    "centers = SOU_clusters.cluster_centers_\n",
    "labels = SOU_clusters.labels_\n",
    "\n",
    "# plotting\n",
    "plt.figure(dpi=100)\n",
    "plt.scatter(decomposed_weights[:,0], decomposed_weights[:, 1], c=labels)\n",
    "plt.scatter(centers[:, 0], centers[:, 1], c='red', marker='*')\n",
    "plt.show()"
   ]
  },
  {
   "cell_type": "code",
   "execution_count": null,
   "metadata": {},
   "outputs": [],
   "source": []
  },
  {
   "cell_type": "code",
   "execution_count": null,
   "metadata": {},
   "outputs": [],
   "source": []
  }
 ],
 "metadata": {
  "kernelspec": {
   "display_name": "Python 3",
   "language": "python",
   "name": "python3"
  },
  "language_info": {
   "codemirror_mode": {
    "name": "ipython",
    "version": 3
   },
   "file_extension": ".py",
   "mimetype": "text/x-python",
   "name": "python",
   "nbconvert_exporter": "python",
   "pygments_lexer": "ipython3",
   "version": "3.5.4"
  }
 },
 "nbformat": 4,
 "nbformat_minor": 2
}
