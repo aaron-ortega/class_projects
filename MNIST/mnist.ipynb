{
 "cells": [
  {
   "cell_type": "markdown",
   "metadata": {},
   "source": [
    "## Handwritings"
   ]
  },
  {
   "cell_type": "code",
   "execution_count": 1,
   "metadata": {},
   "outputs": [],
   "source": [
    "import numpy as np\n",
    "import matplotlib.pyplot as plt\n",
    "import pandas as pd\n",
    "import seaborn as sns; sns.set()\n",
    "from sklearn.cluster import KMeans\n",
    "%matplotlib inline"
   ]
  },
  {
   "cell_type": "code",
   "execution_count": 2,
   "metadata": {},
   "outputs": [],
   "source": [
    "data = np.float64(np.load('MNIST.npy')) \n",
    "labels = np.float32(np.load('MNIST_labels.npy'))\n",
    "data /= 255 # normalize data"
   ]
  },
  {
   "cell_type": "code",
   "execution_count": 3,
   "metadata": {
    "scrolled": true
   },
   "outputs": [
    {
     "data": {
      "text/plain": [
       "(70000, 784)"
      ]
     },
     "execution_count": 3,
     "metadata": {},
     "output_type": "execute_result"
    }
   ],
   "source": [
    "# 70,000 images w/ shape 28x28=784 \n",
    "# row = image/sample\n",
    "# col = represents a variable\n",
    "data.shape"
   ]
  },
  {
   "cell_type": "code",
   "execution_count": 4,
   "metadata": {
    "scrolled": true
   },
   "outputs": [],
   "source": [
    "# split data\n",
    "train = data[:42000]\n",
    "development = data[42000:56000]\n",
    "test = data[56000:]"
   ]
  },
  {
   "cell_type": "code",
   "execution_count": 5,
   "metadata": {},
   "outputs": [],
   "source": [
    "# split labels\n",
    "train_labels = labels[:42000]\n",
    "development_labels = labels[42000:56000]\n",
    "test_labels = labels[56000:]"
   ]
  },
  {
   "cell_type": "code",
   "execution_count": 6,
   "metadata": {},
   "outputs": [
    {
     "data": {
      "text/plain": [
       "(42000, 784)"
      ]
     },
     "execution_count": 6,
     "metadata": {},
     "output_type": "execute_result"
    }
   ],
   "source": [
    "train.shape"
   ]
  },
  {
   "cell_type": "code",
   "execution_count": 7,
   "metadata": {},
   "outputs": [
    {
     "data": {
      "text/plain": [
       "(14000, 784)"
      ]
     },
     "execution_count": 7,
     "metadata": {},
     "output_type": "execute_result"
    }
   ],
   "source": [
    "test.shape"
   ]
  },
  {
   "cell_type": "code",
   "execution_count": 8,
   "metadata": {},
   "outputs": [
    {
     "data": {
      "text/plain": [
       "(14000, 784)"
      ]
     },
     "execution_count": 8,
     "metadata": {},
     "output_type": "execute_result"
    }
   ],
   "source": [
    "development.shape"
   ]
  },
  {
   "cell_type": "code",
   "execution_count": 9,
   "metadata": {},
   "outputs": [
    {
     "data": {
      "image/png": "[encoded data removed]",
      "text/plain": [
       "<matplotlib.figure.Figure at 0x108d16b00>"
      ]
     },
     "metadata": {},
     "output_type": "display_data"
    }
   ],
   "source": [
    "# display a few images\n",
    "nrows = 4; ncols= 5;\n",
    "\n",
    "plt.figure(figsize=(ncols * 2, nrows * 2))\n",
    "for i in range(nrows * ncols):\n",
    "    plt.subplot(nrows, ncols, i+1)\n",
    "    plt.imshow(data[i].reshape((28, 28)), cmap='gray')\n",
    "    plt.axis('off')\n",
    "\n",
    "plt.axis('off')\n",
    "plt.show()"
   ]
  },
  {
   "cell_type": "code",
   "execution_count": 10,
   "metadata": {
    "scrolled": true
   },
   "outputs": [],
   "source": [
    "#single image display\n",
    "#plt.imshow(data[1].reshape(28, 28), cmap='gray')\n",
    "#plt.show()"
   ]
  },
  {
   "cell_type": "markdown",
   "metadata": {},
   "source": [
    "## Part 1: PCA"
   ]
  },
  {
   "cell_type": "markdown",
   "metadata": {},
   "source": [
    "### Part a)\n",
    "steps:\n",
    "- normalize data to zero mean\n",
    "- calculate covariance matrix $\\Sigma$\n",
    "- find orthonormal eigenvectors of $\\Sigma$"
   ]
  },
  {
   "cell_type": "code",
   "execution_count": 11,
   "metadata": {},
   "outputs": [],
   "source": [
    "# function performs PCA\n",
    "def pca(data, n_components):\n",
    "    \n",
    "    # normaliza data to zero mean\n",
    "    center_data = data - data.mean(axis=0)\n",
    "    \n",
    "    # calculate covariance matrix of data\n",
    "    cov = np.cov(center_data.T)\n",
    "    \n",
    "    # eigenvectors of covariance matrix\n",
    "    # eigenvalues denote amount of variance\n",
    "    # 1st component has largest variance, 2nd has 2nd, etc.\n",
    "    evalues, evector = np.linalg.eigh(cov)\n",
    "    \n",
    "    order = evalues.argsort()[::-1] # proper order (max to min)\n",
    "    #print(order)\n",
    "    num = order[:n_components]\n",
    "    components = evector[:, num].T.real  # only real values\n",
    "    \n",
    "    # PCs - rows of components\n",
    "    return components, evalues[::-1]"
   ]
  },
  {
   "cell_type": "code",
   "execution_count": 12,
   "metadata": {},
   "outputs": [],
   "source": [
    "# extract first ten principal components\n",
    "components, _ = pca(train, 10)"
   ]
  },
  {
   "cell_type": "code",
   "execution_count": 13,
   "metadata": {
    "scrolled": true
   },
   "outputs": [
    {
     "data": {
      "image/png": "[encoded data removed]",
      "text/plain": [
       "<matplotlib.figure.Figure at 0x1092445f8>"
      ]
     },
     "metadata": {},
     "output_type": "display_data"
    }
   ],
   "source": [
    "# display first ten principal components\n",
    "nrows = 2; ncols= 5;\n",
    "plt.figure(figsize=(ncols * 2, nrows * 2))\n",
    "for i in range(nrows * ncols):\n",
    "    plt.subplot(nrows, ncols, i+1)\n",
    "    plt.imshow((components)[i].reshape((28, 28)), cmap='gray')\n",
    "    plt.axis('off')\n",
    "\n",
    "    plt.title(\"Component {}\".format(i))\n",
    "plt.axis('off')\n",
    "plt.show()"
   ]
  },
  {
   "cell_type": "markdown",
   "metadata": {},
   "source": [
    "### Part b)\n",
    "The singular values, or eigenvalues, correspond to the variance of the principal components."
   ]
  },
  {
   "cell_type": "code",
   "execution_count": 14,
   "metadata": {},
   "outputs": [],
   "source": [
    "all_components, all_eigenvalues = pca(train, len(train))"
   ]
  },
  {
   "cell_type": "code",
   "execution_count": 15,
   "metadata": {},
   "outputs": [
    {
     "data": {
      "image/png": "[encoded data removed]",
      "text/plain": [
       "<matplotlib.figure.Figure at 0x10925e0f0>"
      ]
     },
     "metadata": {},
     "output_type": "display_data"
    }
   ],
   "source": [
    "plt.plot(all_eigenvalues.real, c='orange')\n",
    "plt.xlabel('Number of singular values')\n",
    "plt.title('PCA singular values')\n",
    "plt.show()"
   ]
  },
  {
   "cell_type": "markdown",
   "metadata": {},
   "source": [
    "### Part c)"
   ]
  },
  {
   "cell_type": "code",
   "execution_count": 16,
   "metadata": {},
   "outputs": [
    {
     "data": {
      "image/png": "[encoded data removed]",
      "text/plain": [
       "<matplotlib.figure.Figure at 0x10963b5f8>"
      ]
     },
     "metadata": {},
     "output_type": "display_data"
    }
   ],
   "source": [
    "num = np.random.randint(len(test))\n",
    "mean = test[num].mean()\n",
    "test_image = test[num] - mean\n",
    "projected = np.dot(test_image, all_components.T)\n",
    "\n",
    "comps = [8, 16, 64, 128, 256]\n",
    "plt.figure(figsize=((len(comps) + 1) * 2, 2))\n",
    "plt.subplot(1, len(comps) + 1, 1)\n",
    "plt.imshow(test[num].reshape((28, 28)), cmap='gray')\n",
    "plt.axis('off')\n",
    "plt.title('Original Image') \n",
    "\n",
    "count = 2\n",
    "for comp in comps:\n",
    "    pro = np.dot(all_components.T[:, :comp], projected[:comp])\n",
    "    plt.subplot(1, len(comps) + 1, count)\n",
    "    plt.imshow((pro + mean).reshape((28, 28)), cmap='gray')\n",
    "    plt.axis('off')\n",
    "    plt.title('Comps: {}'.format(comp))\n",
    "    count+= 1\n",
    "    \n",
    "plt.show()"
   ]
  },
  {
   "cell_type": "markdown",
   "metadata": {},
   "source": [
    "The components all seem to get some aspect of the digit.\n",
    "<br>If the components added cumulatively, then the digit gradually\n",
    "appears better. \n",
    "<br> The top components seems to capture the area were the digit\n",
    "resides."
   ]
  },
  {
   "cell_type": "markdown",
   "metadata": {},
   "source": [
    "## Part 2: k-means"
   ]
  },
  {
   "cell_type": "code",
   "execution_count": 17,
   "metadata": {},
   "outputs": [],
   "source": [
    "# cluster training data\n",
    "num_clusters = 25\n",
    "model = KMeans(n_clusters=num_clusters).fit(train)\n",
    "\n",
    "# get centers & cluster labels\n",
    "centers = model.cluster_centers_\n",
    "cluster_labels = model.labels_"
   ]
  },
  {
   "cell_type": "code",
   "execution_count": 18,
   "metadata": {
    "scrolled": true
   },
   "outputs": [],
   "source": [
    "# dataframe allows to compare the digit label\n",
    "# with cluster label \n",
    "train_df = pd.DataFrame(train)\n",
    "train_df.index.name = 'Data Point'\n",
    "train_df['Cluster Label'] = cluster_labels\n",
    "train_df['Digit Label'] = train_labels"
   ]
  },
  {
   "cell_type": "code",
   "execution_count": 19,
   "metadata": {
    "scrolled": false
   },
   "outputs": [],
   "source": [
    "# sort by Cluster Label column\n",
    "train_df = train_df.sort_values(['Cluster Label'])\n",
    "#train_df"
   ]
  },
  {
   "cell_type": "code",
   "execution_count": 20,
   "metadata": {},
   "outputs": [],
   "source": [
    "# associate centers w/ the digit label by\n",
    "# the most common digit label\n",
    "# for that cluster \n",
    "\n",
    "labeled_centers = np.zeros(num_clusters, dtype=int)\n",
    "for i in range(num_clusters):\n",
    "    labeled_centers[i] = train_df[train_df['Cluster Label'] == i]['Digit Label'].mode()"
   ]
  },
  {
   "cell_type": "code",
   "execution_count": 21,
   "metadata": {},
   "outputs": [
    {
     "data": {
      "text/plain": [
       "array([5, 8, 1, 0, 1, 4, 6, 8, 4, 9, 2, 3, 0, 6, 3, 0, 7, 2, 7, 3, 5, 1,\n",
       "       6, 4, 9])"
      ]
     },
     "execution_count": 21,
     "metadata": {},
     "output_type": "execute_result"
    }
   ],
   "source": [
    "labeled_centers"
   ]
  },
  {
   "cell_type": "code",
   "execution_count": 22,
   "metadata": {
    "scrolled": true
   },
   "outputs": [
    {
     "data": {
      "text/html": [
       "<div>\n",
       "<style scoped>\n",
       "    .dataframe tbody tr th:only-of-type {\n",
       "        vertical-align: middle;\n",
       "    }\n",
       "\n",
       "    .dataframe tbody tr th {\n",
       "        vertical-align: top;\n",
       "    }\n",
       "\n",
       "    .dataframe thead th {\n",
       "        text-align: right;\n",
       "    }\n",
       "</style>\n",
       "<table border=\"1\" class=\"dataframe\">\n",
       "  <thead>\n",
       "    <tr style=\"text-align: right;\">\n",
       "      <th></th>\n",
       "      <th>0</th>\n",
       "      <th>1</th>\n",
       "      <th>2</th>\n",
       "      <th>3</th>\n",
       "      <th>4</th>\n",
       "      <th>5</th>\n",
       "      <th>6</th>\n",
       "      <th>7</th>\n",
       "      <th>8</th>\n",
       "      <th>9</th>\n",
       "      <th>...</th>\n",
       "      <th>774</th>\n",
       "      <th>775</th>\n",
       "      <th>776</th>\n",
       "      <th>777</th>\n",
       "      <th>778</th>\n",
       "      <th>779</th>\n",
       "      <th>780</th>\n",
       "      <th>781</th>\n",
       "      <th>782</th>\n",
       "      <th>783</th>\n",
       "    </tr>\n",
       "  </thead>\n",
       "  <tbody>\n",
       "    <tr>\n",
       "      <th>0</th>\n",
       "      <td>0.0</td>\n",
       "      <td>0.0</td>\n",
       "      <td>0.0</td>\n",
       "      <td>0.0</td>\n",
       "      <td>0.0</td>\n",
       "      <td>0.0</td>\n",
       "      <td>0.0</td>\n",
       "      <td>0.0</td>\n",
       "      <td>0.0</td>\n",
       "      <td>0.0</td>\n",
       "      <td>...</td>\n",
       "      <td>-1.084202e-17</td>\n",
       "      <td>8.727827e-18</td>\n",
       "      <td>5.149960e-18</td>\n",
       "      <td>1.463673e-18</td>\n",
       "      <td>-7.860466e-19</td>\n",
       "      <td>-2.270048e-19</td>\n",
       "      <td>0.0</td>\n",
       "      <td>0.0</td>\n",
       "      <td>0.0</td>\n",
       "      <td>0.0</td>\n",
       "    </tr>\n",
       "    <tr>\n",
       "      <th>1</th>\n",
       "      <td>0.0</td>\n",
       "      <td>0.0</td>\n",
       "      <td>0.0</td>\n",
       "      <td>0.0</td>\n",
       "      <td>0.0</td>\n",
       "      <td>0.0</td>\n",
       "      <td>0.0</td>\n",
       "      <td>0.0</td>\n",
       "      <td>0.0</td>\n",
       "      <td>0.0</td>\n",
       "      <td>...</td>\n",
       "      <td>-9.649399e-18</td>\n",
       "      <td>8.131516e-18</td>\n",
       "      <td>4.906015e-18</td>\n",
       "      <td>1.341700e-18</td>\n",
       "      <td>-9.351244e-19</td>\n",
       "      <td>-2.219226e-19</td>\n",
       "      <td>0.0</td>\n",
       "      <td>0.0</td>\n",
       "      <td>0.0</td>\n",
       "      <td>0.0</td>\n",
       "    </tr>\n",
       "    <tr>\n",
       "      <th>2</th>\n",
       "      <td>0.0</td>\n",
       "      <td>0.0</td>\n",
       "      <td>0.0</td>\n",
       "      <td>0.0</td>\n",
       "      <td>0.0</td>\n",
       "      <td>0.0</td>\n",
       "      <td>0.0</td>\n",
       "      <td>0.0</td>\n",
       "      <td>0.0</td>\n",
       "      <td>0.0</td>\n",
       "      <td>...</td>\n",
       "      <td>-2.612927e-17</td>\n",
       "      <td>1.626303e-17</td>\n",
       "      <td>8.375462e-18</td>\n",
       "      <td>3.022214e-18</td>\n",
       "      <td>1.206175e-18</td>\n",
       "      <td>-2.829090e-19</td>\n",
       "      <td>0.0</td>\n",
       "      <td>0.0</td>\n",
       "      <td>0.0</td>\n",
       "      <td>0.0</td>\n",
       "    </tr>\n",
       "    <tr>\n",
       "      <th>3</th>\n",
       "      <td>0.0</td>\n",
       "      <td>0.0</td>\n",
       "      <td>0.0</td>\n",
       "      <td>0.0</td>\n",
       "      <td>0.0</td>\n",
       "      <td>0.0</td>\n",
       "      <td>0.0</td>\n",
       "      <td>0.0</td>\n",
       "      <td>0.0</td>\n",
       "      <td>0.0</td>\n",
       "      <td>...</td>\n",
       "      <td>6.396793e-18</td>\n",
       "      <td>1.626303e-19</td>\n",
       "      <td>1.490778e-18</td>\n",
       "      <td>-2.981556e-19</td>\n",
       "      <td>-1.382358e-18</td>\n",
       "      <td>-1.643244e-19</td>\n",
       "      <td>0.0</td>\n",
       "      <td>0.0</td>\n",
       "      <td>0.0</td>\n",
       "      <td>0.0</td>\n",
       "    </tr>\n",
       "    <tr>\n",
       "      <th>4</th>\n",
       "      <td>0.0</td>\n",
       "      <td>0.0</td>\n",
       "      <td>0.0</td>\n",
       "      <td>0.0</td>\n",
       "      <td>0.0</td>\n",
       "      <td>0.0</td>\n",
       "      <td>0.0</td>\n",
       "      <td>0.0</td>\n",
       "      <td>0.0</td>\n",
       "      <td>0.0</td>\n",
       "      <td>...</td>\n",
       "      <td>5.016264e-04</td>\n",
       "      <td>5.225275e-06</td>\n",
       "      <td>3.930233e-18</td>\n",
       "      <td>8.809143e-19</td>\n",
       "      <td>-1.517883e-18</td>\n",
       "      <td>-2.049820e-19</td>\n",
       "      <td>0.0</td>\n",
       "      <td>0.0</td>\n",
       "      <td>0.0</td>\n",
       "      <td>0.0</td>\n",
       "    </tr>\n",
       "    <tr>\n",
       "      <th>5</th>\n",
       "      <td>0.0</td>\n",
       "      <td>0.0</td>\n",
       "      <td>0.0</td>\n",
       "      <td>0.0</td>\n",
       "      <td>0.0</td>\n",
       "      <td>0.0</td>\n",
       "      <td>0.0</td>\n",
       "      <td>0.0</td>\n",
       "      <td>0.0</td>\n",
       "      <td>0.0</td>\n",
       "      <td>...</td>\n",
       "      <td>7.573772e-03</td>\n",
       "      <td>4.732091e-03</td>\n",
       "      <td>4.016210e-03</td>\n",
       "      <td>2.378179e-03</td>\n",
       "      <td>2.147641e-03</td>\n",
       "      <td>2.912056e-04</td>\n",
       "      <td>0.0</td>\n",
       "      <td>0.0</td>\n",
       "      <td>0.0</td>\n",
       "      <td>0.0</td>\n",
       "    </tr>\n",
       "    <tr>\n",
       "      <th>6</th>\n",
       "      <td>0.0</td>\n",
       "      <td>0.0</td>\n",
       "      <td>0.0</td>\n",
       "      <td>0.0</td>\n",
       "      <td>0.0</td>\n",
       "      <td>0.0</td>\n",
       "      <td>0.0</td>\n",
       "      <td>0.0</td>\n",
       "      <td>0.0</td>\n",
       "      <td>0.0</td>\n",
       "      <td>...</td>\n",
       "      <td>-1.344411e-17</td>\n",
       "      <td>9.974660e-18</td>\n",
       "      <td>5.692061e-18</td>\n",
       "      <td>1.721171e-18</td>\n",
       "      <td>-4.472334e-19</td>\n",
       "      <td>-2.354752e-19</td>\n",
       "      <td>0.0</td>\n",
       "      <td>0.0</td>\n",
       "      <td>0.0</td>\n",
       "      <td>0.0</td>\n",
       "    </tr>\n",
       "    <tr>\n",
       "      <th>7</th>\n",
       "      <td>0.0</td>\n",
       "      <td>0.0</td>\n",
       "      <td>0.0</td>\n",
       "      <td>0.0</td>\n",
       "      <td>0.0</td>\n",
       "      <td>0.0</td>\n",
       "      <td>0.0</td>\n",
       "      <td>0.0</td>\n",
       "      <td>0.0</td>\n",
       "      <td>0.0</td>\n",
       "      <td>...</td>\n",
       "      <td>-1.170938e-17</td>\n",
       "      <td>9.161508e-18</td>\n",
       "      <td>5.339696e-18</td>\n",
       "      <td>1.558541e-18</td>\n",
       "      <td>-6.640738e-19</td>\n",
       "      <td>-2.303930e-19</td>\n",
       "      <td>0.0</td>\n",
       "      <td>0.0</td>\n",
       "      <td>0.0</td>\n",
       "      <td>0.0</td>\n",
       "    </tr>\n",
       "    <tr>\n",
       "      <th>8</th>\n",
       "      <td>0.0</td>\n",
       "      <td>0.0</td>\n",
       "      <td>0.0</td>\n",
       "      <td>0.0</td>\n",
       "      <td>0.0</td>\n",
       "      <td>0.0</td>\n",
       "      <td>0.0</td>\n",
       "      <td>0.0</td>\n",
       "      <td>0.0</td>\n",
       "      <td>0.0</td>\n",
       "      <td>...</td>\n",
       "      <td>-1.441989e-17</td>\n",
       "      <td>1.046255e-17</td>\n",
       "      <td>5.908902e-18</td>\n",
       "      <td>1.816039e-18</td>\n",
       "      <td>-3.252607e-19</td>\n",
       "      <td>-2.388633e-19</td>\n",
       "      <td>0.0</td>\n",
       "      <td>0.0</td>\n",
       "      <td>0.0</td>\n",
       "      <td>0.0</td>\n",
       "    </tr>\n",
       "    <tr>\n",
       "      <th>9</th>\n",
       "      <td>0.0</td>\n",
       "      <td>0.0</td>\n",
       "      <td>0.0</td>\n",
       "      <td>0.0</td>\n",
       "      <td>0.0</td>\n",
       "      <td>0.0</td>\n",
       "      <td>0.0</td>\n",
       "      <td>0.0</td>\n",
       "      <td>0.0</td>\n",
       "      <td>0.0</td>\n",
       "      <td>...</td>\n",
       "      <td>2.438193e-04</td>\n",
       "      <td>4.330776e-04</td>\n",
       "      <td>1.551577e-04</td>\n",
       "      <td>3.862470e-18</td>\n",
       "      <td>2.276825e-18</td>\n",
       "      <td>-3.134022e-19</td>\n",
       "      <td>0.0</td>\n",
       "      <td>0.0</td>\n",
       "      <td>0.0</td>\n",
       "      <td>0.0</td>\n",
       "    </tr>\n",
       "    <tr>\n",
       "      <th>10</th>\n",
       "      <td>0.0</td>\n",
       "      <td>0.0</td>\n",
       "      <td>0.0</td>\n",
       "      <td>0.0</td>\n",
       "      <td>0.0</td>\n",
       "      <td>0.0</td>\n",
       "      <td>0.0</td>\n",
       "      <td>0.0</td>\n",
       "      <td>0.0</td>\n",
       "      <td>0.0</td>\n",
       "      <td>...</td>\n",
       "      <td>-1.322727e-17</td>\n",
       "      <td>9.920450e-18</td>\n",
       "      <td>5.664956e-18</td>\n",
       "      <td>1.707618e-18</td>\n",
       "      <td>-4.743385e-19</td>\n",
       "      <td>-2.354752e-19</td>\n",
       "      <td>0.0</td>\n",
       "      <td>0.0</td>\n",
       "      <td>0.0</td>\n",
       "      <td>0.0</td>\n",
       "    </tr>\n",
       "    <tr>\n",
       "      <th>11</th>\n",
       "      <td>0.0</td>\n",
       "      <td>0.0</td>\n",
       "      <td>0.0</td>\n",
       "      <td>0.0</td>\n",
       "      <td>0.0</td>\n",
       "      <td>0.0</td>\n",
       "      <td>0.0</td>\n",
       "      <td>0.0</td>\n",
       "      <td>0.0</td>\n",
       "      <td>0.0</td>\n",
       "      <td>...</td>\n",
       "      <td>-3.176712e-17</td>\n",
       "      <td>1.902775e-17</td>\n",
       "      <td>5.936007e-18</td>\n",
       "      <td>3.591420e-18</td>\n",
       "      <td>1.924459e-18</td>\n",
       "      <td>-3.032378e-19</td>\n",
       "      <td>0.0</td>\n",
       "      <td>0.0</td>\n",
       "      <td>0.0</td>\n",
       "      <td>0.0</td>\n",
       "    </tr>\n",
       "    <tr>\n",
       "      <th>12</th>\n",
       "      <td>0.0</td>\n",
       "      <td>0.0</td>\n",
       "      <td>0.0</td>\n",
       "      <td>0.0</td>\n",
       "      <td>0.0</td>\n",
       "      <td>0.0</td>\n",
       "      <td>0.0</td>\n",
       "      <td>0.0</td>\n",
       "      <td>0.0</td>\n",
       "      <td>0.0</td>\n",
       "      <td>...</td>\n",
       "      <td>1.496199e-17</td>\n",
       "      <td>-4.824700e-18</td>\n",
       "      <td>-6.234162e-19</td>\n",
       "      <td>-1.314595e-18</td>\n",
       "      <td>-1.057097e-18</td>\n",
       "      <td>-1.270549e-19</td>\n",
       "      <td>0.0</td>\n",
       "      <td>0.0</td>\n",
       "      <td>0.0</td>\n",
       "      <td>0.0</td>\n",
       "    </tr>\n",
       "    <tr>\n",
       "      <th>13</th>\n",
       "      <td>0.0</td>\n",
       "      <td>0.0</td>\n",
       "      <td>0.0</td>\n",
       "      <td>0.0</td>\n",
       "      <td>0.0</td>\n",
       "      <td>0.0</td>\n",
       "      <td>0.0</td>\n",
       "      <td>0.0</td>\n",
       "      <td>0.0</td>\n",
       "      <td>0.0</td>\n",
       "      <td>...</td>\n",
       "      <td>-1.615461e-17</td>\n",
       "      <td>1.138412e-17</td>\n",
       "      <td>6.288373e-18</td>\n",
       "      <td>2.005774e-18</td>\n",
       "      <td>-8.131516e-20</td>\n",
       "      <td>-2.456396e-19</td>\n",
       "      <td>0.0</td>\n",
       "      <td>0.0</td>\n",
       "      <td>0.0</td>\n",
       "      <td>0.0</td>\n",
       "    </tr>\n",
       "    <tr>\n",
       "      <th>14</th>\n",
       "      <td>0.0</td>\n",
       "      <td>0.0</td>\n",
       "      <td>0.0</td>\n",
       "      <td>0.0</td>\n",
       "      <td>0.0</td>\n",
       "      <td>0.0</td>\n",
       "      <td>0.0</td>\n",
       "      <td>0.0</td>\n",
       "      <td>0.0</td>\n",
       "      <td>0.0</td>\n",
       "      <td>...</td>\n",
       "      <td>-1.626303e-17</td>\n",
       "      <td>1.138412e-17</td>\n",
       "      <td>6.288373e-18</td>\n",
       "      <td>2.005774e-18</td>\n",
       "      <td>-8.131516e-20</td>\n",
       "      <td>-2.456396e-19</td>\n",
       "      <td>0.0</td>\n",
       "      <td>0.0</td>\n",
       "      <td>0.0</td>\n",
       "      <td>0.0</td>\n",
       "    </tr>\n",
       "    <tr>\n",
       "      <th>15</th>\n",
       "      <td>0.0</td>\n",
       "      <td>0.0</td>\n",
       "      <td>0.0</td>\n",
       "      <td>0.0</td>\n",
       "      <td>0.0</td>\n",
       "      <td>0.0</td>\n",
       "      <td>0.0</td>\n",
       "      <td>0.0</td>\n",
       "      <td>0.0</td>\n",
       "      <td>0.0</td>\n",
       "      <td>...</td>\n",
       "      <td>3.144186e-18</td>\n",
       "      <td>1.788934e-18</td>\n",
       "      <td>2.195509e-18</td>\n",
       "      <td>4.065758e-20</td>\n",
       "      <td>-1.490778e-18</td>\n",
       "      <td>-1.761829e-19</td>\n",
       "      <td>0.0</td>\n",
       "      <td>0.0</td>\n",
       "      <td>0.0</td>\n",
       "      <td>0.0</td>\n",
       "    </tr>\n",
       "    <tr>\n",
       "      <th>16</th>\n",
       "      <td>0.0</td>\n",
       "      <td>0.0</td>\n",
       "      <td>0.0</td>\n",
       "      <td>0.0</td>\n",
       "      <td>0.0</td>\n",
       "      <td>0.0</td>\n",
       "      <td>0.0</td>\n",
       "      <td>0.0</td>\n",
       "      <td>0.0</td>\n",
       "      <td>0.0</td>\n",
       "      <td>...</td>\n",
       "      <td>-1.333569e-17</td>\n",
       "      <td>9.974660e-18</td>\n",
       "      <td>5.692061e-18</td>\n",
       "      <td>1.721171e-18</td>\n",
       "      <td>-4.472334e-19</td>\n",
       "      <td>-2.354752e-19</td>\n",
       "      <td>0.0</td>\n",
       "      <td>0.0</td>\n",
       "      <td>0.0</td>\n",
       "      <td>0.0</td>\n",
       "    </tr>\n",
       "    <tr>\n",
       "      <th>17</th>\n",
       "      <td>0.0</td>\n",
       "      <td>0.0</td>\n",
       "      <td>0.0</td>\n",
       "      <td>0.0</td>\n",
       "      <td>0.0</td>\n",
       "      <td>0.0</td>\n",
       "      <td>0.0</td>\n",
       "      <td>0.0</td>\n",
       "      <td>0.0</td>\n",
       "      <td>0.0</td>\n",
       "      <td>...</td>\n",
       "      <td>-1.615461e-17</td>\n",
       "      <td>1.132991e-17</td>\n",
       "      <td>6.261268e-18</td>\n",
       "      <td>2.005774e-18</td>\n",
       "      <td>-9.486769e-20</td>\n",
       "      <td>-2.456396e-19</td>\n",
       "      <td>0.0</td>\n",
       "      <td>0.0</td>\n",
       "      <td>0.0</td>\n",
       "      <td>0.0</td>\n",
       "    </tr>\n",
       "    <tr>\n",
       "      <th>18</th>\n",
       "      <td>0.0</td>\n",
       "      <td>0.0</td>\n",
       "      <td>0.0</td>\n",
       "      <td>0.0</td>\n",
       "      <td>0.0</td>\n",
       "      <td>0.0</td>\n",
       "      <td>0.0</td>\n",
       "      <td>0.0</td>\n",
       "      <td>0.0</td>\n",
       "      <td>0.0</td>\n",
       "      <td>...</td>\n",
       "      <td>1.580067e-02</td>\n",
       "      <td>6.775485e-03</td>\n",
       "      <td>2.543007e-03</td>\n",
       "      <td>5.191605e-04</td>\n",
       "      <td>6.452843e-05</td>\n",
       "      <td>-1.694066e-19</td>\n",
       "      <td>0.0</td>\n",
       "      <td>0.0</td>\n",
       "      <td>0.0</td>\n",
       "      <td>0.0</td>\n",
       "    </tr>\n",
       "    <tr>\n",
       "      <th>19</th>\n",
       "      <td>0.0</td>\n",
       "      <td>0.0</td>\n",
       "      <td>0.0</td>\n",
       "      <td>0.0</td>\n",
       "      <td>0.0</td>\n",
       "      <td>0.0</td>\n",
       "      <td>0.0</td>\n",
       "      <td>0.0</td>\n",
       "      <td>0.0</td>\n",
       "      <td>0.0</td>\n",
       "      <td>...</td>\n",
       "      <td>-2.602085e-17</td>\n",
       "      <td>1.620882e-17</td>\n",
       "      <td>8.348357e-18</td>\n",
       "      <td>2.995109e-18</td>\n",
       "      <td>1.179070e-18</td>\n",
       "      <td>-2.812149e-19</td>\n",
       "      <td>0.0</td>\n",
       "      <td>0.0</td>\n",
       "      <td>0.0</td>\n",
       "      <td>0.0</td>\n",
       "    </tr>\n",
       "    <tr>\n",
       "      <th>20</th>\n",
       "      <td>0.0</td>\n",
       "      <td>0.0</td>\n",
       "      <td>0.0</td>\n",
       "      <td>0.0</td>\n",
       "      <td>0.0</td>\n",
       "      <td>0.0</td>\n",
       "      <td>0.0</td>\n",
       "      <td>0.0</td>\n",
       "      <td>0.0</td>\n",
       "      <td>0.0</td>\n",
       "      <td>...</td>\n",
       "      <td>4.878910e-18</td>\n",
       "      <td>9.215718e-19</td>\n",
       "      <td>1.816039e-18</td>\n",
       "      <td>-1.355253e-19</td>\n",
       "      <td>-1.436568e-18</td>\n",
       "      <td>-1.694066e-19</td>\n",
       "      <td>0.0</td>\n",
       "      <td>0.0</td>\n",
       "      <td>0.0</td>\n",
       "      <td>0.0</td>\n",
       "    </tr>\n",
       "    <tr>\n",
       "      <th>21</th>\n",
       "      <td>0.0</td>\n",
       "      <td>0.0</td>\n",
       "      <td>0.0</td>\n",
       "      <td>0.0</td>\n",
       "      <td>0.0</td>\n",
       "      <td>0.0</td>\n",
       "      <td>0.0</td>\n",
       "      <td>0.0</td>\n",
       "      <td>0.0</td>\n",
       "      <td>0.0</td>\n",
       "      <td>...</td>\n",
       "      <td>-2.612927e-17</td>\n",
       "      <td>1.626303e-17</td>\n",
       "      <td>8.375462e-18</td>\n",
       "      <td>3.022214e-18</td>\n",
       "      <td>1.206175e-18</td>\n",
       "      <td>-2.829090e-19</td>\n",
       "      <td>0.0</td>\n",
       "      <td>0.0</td>\n",
       "      <td>0.0</td>\n",
       "      <td>0.0</td>\n",
       "    </tr>\n",
       "    <tr>\n",
       "      <th>22</th>\n",
       "      <td>0.0</td>\n",
       "      <td>0.0</td>\n",
       "      <td>0.0</td>\n",
       "      <td>0.0</td>\n",
       "      <td>0.0</td>\n",
       "      <td>0.0</td>\n",
       "      <td>0.0</td>\n",
       "      <td>0.0</td>\n",
       "      <td>0.0</td>\n",
       "      <td>0.0</td>\n",
       "      <td>...</td>\n",
       "      <td>1.420305e-17</td>\n",
       "      <td>-4.933120e-18</td>\n",
       "      <td>-3.333922e-18</td>\n",
       "      <td>-1.423015e-18</td>\n",
       "      <td>-6.505213e-19</td>\n",
       "      <td>-8.131516e-20</td>\n",
       "      <td>0.0</td>\n",
       "      <td>0.0</td>\n",
       "      <td>0.0</td>\n",
       "      <td>0.0</td>\n",
       "    </tr>\n",
       "    <tr>\n",
       "      <th>23</th>\n",
       "      <td>0.0</td>\n",
       "      <td>0.0</td>\n",
       "      <td>0.0</td>\n",
       "      <td>0.0</td>\n",
       "      <td>0.0</td>\n",
       "      <td>0.0</td>\n",
       "      <td>0.0</td>\n",
       "      <td>0.0</td>\n",
       "      <td>0.0</td>\n",
       "      <td>0.0</td>\n",
       "      <td>...</td>\n",
       "      <td>-1.821460e-17</td>\n",
       "      <td>1.235990e-17</td>\n",
       "      <td>6.694948e-18</td>\n",
       "      <td>2.209062e-18</td>\n",
       "      <td>1.626303e-19</td>\n",
       "      <td>-2.524158e-19</td>\n",
       "      <td>0.0</td>\n",
       "      <td>0.0</td>\n",
       "      <td>0.0</td>\n",
       "      <td>0.0</td>\n",
       "    </tr>\n",
       "    <tr>\n",
       "      <th>24</th>\n",
       "      <td>0.0</td>\n",
       "      <td>0.0</td>\n",
       "      <td>0.0</td>\n",
       "      <td>0.0</td>\n",
       "      <td>0.0</td>\n",
       "      <td>0.0</td>\n",
       "      <td>0.0</td>\n",
       "      <td>0.0</td>\n",
       "      <td>0.0</td>\n",
       "      <td>0.0</td>\n",
       "      <td>...</td>\n",
       "      <td>-3.458605e-17</td>\n",
       "      <td>2.049142e-17</td>\n",
       "      <td>3.957338e-18</td>\n",
       "      <td>3.876023e-18</td>\n",
       "      <td>2.303930e-18</td>\n",
       "      <td>-3.134022e-19</td>\n",
       "      <td>0.0</td>\n",
       "      <td>0.0</td>\n",
       "      <td>0.0</td>\n",
       "      <td>0.0</td>\n",
       "    </tr>\n",
       "  </tbody>\n",
       "</table>\n",
       "<p>25 rows × 784 columns</p>\n",
       "</div>"
      ],
      "text/plain": [
       "    0    1    2    3    4    5    6    7    8    9   ...            774  \\\n",
       "0   0.0  0.0  0.0  0.0  0.0  0.0  0.0  0.0  0.0  0.0 ...  -1.084202e-17   \n",
       "1   0.0  0.0  0.0  0.0  0.0  0.0  0.0  0.0  0.0  0.0 ...  -9.649399e-18   \n",
       "2   0.0  0.0  0.0  0.0  0.0  0.0  0.0  0.0  0.0  0.0 ...  -2.612927e-17   \n",
       "3   0.0  0.0  0.0  0.0  0.0  0.0  0.0  0.0  0.0  0.0 ...   6.396793e-18   \n",
       "4   0.0  0.0  0.0  0.0  0.0  0.0  0.0  0.0  0.0  0.0 ...   5.016264e-04   \n",
       "5   0.0  0.0  0.0  0.0  0.0  0.0  0.0  0.0  0.0  0.0 ...   7.573772e-03   \n",
       "6   0.0  0.0  0.0  0.0  0.0  0.0  0.0  0.0  0.0  0.0 ...  -1.344411e-17   \n",
       "7   0.0  0.0  0.0  0.0  0.0  0.0  0.0  0.0  0.0  0.0 ...  -1.170938e-17   \n",
       "8   0.0  0.0  0.0  0.0  0.0  0.0  0.0  0.0  0.0  0.0 ...  -1.441989e-17   \n",
       "9   0.0  0.0  0.0  0.0  0.0  0.0  0.0  0.0  0.0  0.0 ...   2.438193e-04   \n",
       "10  0.0  0.0  0.0  0.0  0.0  0.0  0.0  0.0  0.0  0.0 ...  -1.322727e-17   \n",
       "11  0.0  0.0  0.0  0.0  0.0  0.0  0.0  0.0  0.0  0.0 ...  -3.176712e-17   \n",
       "12  0.0  0.0  0.0  0.0  0.0  0.0  0.0  0.0  0.0  0.0 ...   1.496199e-17   \n",
       "13  0.0  0.0  0.0  0.0  0.0  0.0  0.0  0.0  0.0  0.0 ...  -1.615461e-17   \n",
       "14  0.0  0.0  0.0  0.0  0.0  0.0  0.0  0.0  0.0  0.0 ...  -1.626303e-17   \n",
       "15  0.0  0.0  0.0  0.0  0.0  0.0  0.0  0.0  0.0  0.0 ...   3.144186e-18   \n",
       "16  0.0  0.0  0.0  0.0  0.0  0.0  0.0  0.0  0.0  0.0 ...  -1.333569e-17   \n",
       "17  0.0  0.0  0.0  0.0  0.0  0.0  0.0  0.0  0.0  0.0 ...  -1.615461e-17   \n",
       "18  0.0  0.0  0.0  0.0  0.0  0.0  0.0  0.0  0.0  0.0 ...   1.580067e-02   \n",
       "19  0.0  0.0  0.0  0.0  0.0  0.0  0.0  0.0  0.0  0.0 ...  -2.602085e-17   \n",
       "20  0.0  0.0  0.0  0.0  0.0  0.0  0.0  0.0  0.0  0.0 ...   4.878910e-18   \n",
       "21  0.0  0.0  0.0  0.0  0.0  0.0  0.0  0.0  0.0  0.0 ...  -2.612927e-17   \n",
       "22  0.0  0.0  0.0  0.0  0.0  0.0  0.0  0.0  0.0  0.0 ...   1.420305e-17   \n",
       "23  0.0  0.0  0.0  0.0  0.0  0.0  0.0  0.0  0.0  0.0 ...  -1.821460e-17   \n",
       "24  0.0  0.0  0.0  0.0  0.0  0.0  0.0  0.0  0.0  0.0 ...  -3.458605e-17   \n",
       "\n",
       "             775           776           777           778           779  780  \\\n",
       "0   8.727827e-18  5.149960e-18  1.463673e-18 -7.860466e-19 -2.270048e-19  0.0   \n",
       "1   8.131516e-18  4.906015e-18  1.341700e-18 -9.351244e-19 -2.219226e-19  0.0   \n",
       "2   1.626303e-17  8.375462e-18  3.022214e-18  1.206175e-18 -2.829090e-19  0.0   \n",
       "3   1.626303e-19  1.490778e-18 -2.981556e-19 -1.382358e-18 -1.643244e-19  0.0   \n",
       "4   5.225275e-06  3.930233e-18  8.809143e-19 -1.517883e-18 -2.049820e-19  0.0   \n",
       "5   4.732091e-03  4.016210e-03  2.378179e-03  2.147641e-03  2.912056e-04  0.0   \n",
       "6   9.974660e-18  5.692061e-18  1.721171e-18 -4.472334e-19 -2.354752e-19  0.0   \n",
       "7   9.161508e-18  5.339696e-18  1.558541e-18 -6.640738e-19 -2.303930e-19  0.0   \n",
       "8   1.046255e-17  5.908902e-18  1.816039e-18 -3.252607e-19 -2.388633e-19  0.0   \n",
       "9   4.330776e-04  1.551577e-04  3.862470e-18  2.276825e-18 -3.134022e-19  0.0   \n",
       "10  9.920450e-18  5.664956e-18  1.707618e-18 -4.743385e-19 -2.354752e-19  0.0   \n",
       "11  1.902775e-17  5.936007e-18  3.591420e-18  1.924459e-18 -3.032378e-19  0.0   \n",
       "12 -4.824700e-18 -6.234162e-19 -1.314595e-18 -1.057097e-18 -1.270549e-19  0.0   \n",
       "13  1.138412e-17  6.288373e-18  2.005774e-18 -8.131516e-20 -2.456396e-19  0.0   \n",
       "14  1.138412e-17  6.288373e-18  2.005774e-18 -8.131516e-20 -2.456396e-19  0.0   \n",
       "15  1.788934e-18  2.195509e-18  4.065758e-20 -1.490778e-18 -1.761829e-19  0.0   \n",
       "16  9.974660e-18  5.692061e-18  1.721171e-18 -4.472334e-19 -2.354752e-19  0.0   \n",
       "17  1.132991e-17  6.261268e-18  2.005774e-18 -9.486769e-20 -2.456396e-19  0.0   \n",
       "18  6.775485e-03  2.543007e-03  5.191605e-04  6.452843e-05 -1.694066e-19  0.0   \n",
       "19  1.620882e-17  8.348357e-18  2.995109e-18  1.179070e-18 -2.812149e-19  0.0   \n",
       "20  9.215718e-19  1.816039e-18 -1.355253e-19 -1.436568e-18 -1.694066e-19  0.0   \n",
       "21  1.626303e-17  8.375462e-18  3.022214e-18  1.206175e-18 -2.829090e-19  0.0   \n",
       "22 -4.933120e-18 -3.333922e-18 -1.423015e-18 -6.505213e-19 -8.131516e-20  0.0   \n",
       "23  1.235990e-17  6.694948e-18  2.209062e-18  1.626303e-19 -2.524158e-19  0.0   \n",
       "24  2.049142e-17  3.957338e-18  3.876023e-18  2.303930e-18 -3.134022e-19  0.0   \n",
       "\n",
       "    781  782  783  \n",
       "0   0.0  0.0  0.0  \n",
       "1   0.0  0.0  0.0  \n",
       "2   0.0  0.0  0.0  \n",
       "3   0.0  0.0  0.0  \n",
       "4   0.0  0.0  0.0  \n",
       "5   0.0  0.0  0.0  \n",
       "6   0.0  0.0  0.0  \n",
       "7   0.0  0.0  0.0  \n",
       "8   0.0  0.0  0.0  \n",
       "9   0.0  0.0  0.0  \n",
       "10  0.0  0.0  0.0  \n",
       "11  0.0  0.0  0.0  \n",
       "12  0.0  0.0  0.0  \n",
       "13  0.0  0.0  0.0  \n",
       "14  0.0  0.0  0.0  \n",
       "15  0.0  0.0  0.0  \n",
       "16  0.0  0.0  0.0  \n",
       "17  0.0  0.0  0.0  \n",
       "18  0.0  0.0  0.0  \n",
       "19  0.0  0.0  0.0  \n",
       "20  0.0  0.0  0.0  \n",
       "21  0.0  0.0  0.0  \n",
       "22  0.0  0.0  0.0  \n",
       "23  0.0  0.0  0.0  \n",
       "24  0.0  0.0  0.0  \n",
       "\n",
       "[25 rows x 784 columns]"
      ]
     },
     "execution_count": 22,
     "metadata": {},
     "output_type": "execute_result"
    }
   ],
   "source": [
    "#cluster centers\n",
    "pd.DataFrame(centers)"
   ]
  },
  {
   "cell_type": "code",
   "execution_count": 23,
   "metadata": {},
   "outputs": [],
   "source": [
    "# where we see the first center is \n",
    "# associated with digit label 5\n",
    "labeled_centers = list(zip(labeled_centers, centers))"
   ]
  },
  {
   "cell_type": "code",
   "execution_count": 24,
   "metadata": {},
   "outputs": [],
   "source": [
    "# infer label from test data by\n",
    "# finding closest cluster center\n",
    "def infer_label(data, labeled_centers):\n",
    "    \n",
    "    index = 0\n",
    "    val = 1000  # large number to get the if-condition going\n",
    "    for i in range(len(labeled_centers)):\n",
    "        tmp = np.linalg.norm(data - labeled_centers[i][1])\n",
    "        if val > tmp:\n",
    "            val = tmp\n",
    "            index = i\n",
    "            \n",
    "    return labeled_centers[index][0]\n",
    "        "
   ]
  },
  {
   "cell_type": "code",
   "execution_count": 25,
   "metadata": {
    "scrolled": true
   },
   "outputs": [
    {
     "data": {
      "image/png": "[encoded data removed]",
      "text/plain": [
       "<matplotlib.figure.Figure at 0x10978d940>"
      ]
     },
     "metadata": {},
     "output_type": "display_data"
    }
   ],
   "source": [
    "# display a few random images\n",
    "# from the test data\n",
    "\n",
    "random = test[np.random.randint(len(test), size=10)]  # ten random images\n",
    "nrows = 2; ncols= 5;\n",
    "\n",
    "plt.figure(figsize=(ncols * 2, nrows * 2))\n",
    "for i in range(nrows * ncols):\n",
    "    plt.subplot(nrows, ncols, i+1)\n",
    "    plt.imshow(random[i].reshape((28, 28)), cmap='gray')\n",
    "    plt.axis('off')\n",
    "\n",
    "    plt.title(\"Inferred Label: {}\".format(infer_label(random[i], labeled_centers)))\n",
    "plt.axis('off')\n",
    "plt.show()"
   ]
  },
  {
   "cell_type": "markdown",
   "metadata": {},
   "source": [
    "Here are ten random images where their digit label is being inferred. Although not perfect, the k-mean does represent some digits well. I noticed that it struggles comparing 4 and 9."
   ]
  },
  {
   "cell_type": "markdown",
   "metadata": {},
   "source": [
    "## Part 3: Spectral clustering"
   ]
  },
  {
   "cell_type": "code",
   "execution_count": 26,
   "metadata": {},
   "outputs": [],
   "source": [
    "# training set for spectral clustering\n",
    "spectural_train = train[:1000]\n",
    "spectural_labels = train_labels[:1000]\n",
    "\n",
    "#weights = sim_matrix(spectral_train, h=0.5)\n",
    "\n",
    "rows = spectural_train.shape[0]\n",
    "weights = np.zeros((rows, rows))\n",
    "weights.shape\n",
    "\n",
    "h = 25  # bandwidth parameter (scaling factor)\n",
    "for row in range(rows):\n",
    "    weights[row] = np.exp(-(np.linalg.norm(\n",
    "        spectural_train[row] - spectural_train, axis=1) ** 2) / h)\n",
    "    "
   ]
  },
  {
   "cell_type": "code",
   "execution_count": 27,
   "metadata": {},
   "outputs": [],
   "source": [
    "# get sum of each row\n",
    "# form diagonal matrix w/ each sum\n",
    "weights_sum = weights.sum(axis=1)\n",
    "diagonal = np.zeros(weights.shape)\n",
    "np.fill_diagonal(diagonal, weights_sum)\n",
    "\n",
    "# diagonal inverse\n",
    "inv = np.linalg.inv(diagonal ** 0.5) \n",
    "\n",
    "# Laplacian\n",
    "lap = np.eye(inv.shape[0]) - np.matmul(np.matmul(inv, weights), inv)\n",
    "\n",
    "evalues, evectors = np.linalg.eig(lap)"
   ]
  },
  {
   "cell_type": "code",
   "execution_count": 28,
   "metadata": {
    "scrolled": true
   },
   "outputs": [
    {
     "data": {
      "image/png": "[encoded data removed]",
      "text/plain": [
       "<matplotlib.figure.Figure at 0x1096782e8>"
      ]
     },
     "metadata": {},
     "output_type": "display_data"
    }
   ],
   "source": [
    "# Data Projection on eigvecs 1,2\n",
    "d = 3 \n",
    "ev = evectors[:, 0: d]\n",
    "\n",
    "# Show first 3 classes on the projection on eigvecs 1,2 \n",
    "colors=['red', 'green', 'blue']\n",
    "digit = [0, 1, 2]\n",
    "for i, c in enumerate(colors):\n",
    "    plt.scatter(ev[spectural_labels == i, 1], ev[spectural_labels == i, 2], color=c, label='Digit: {}'.format(digit[i]))\n",
    "    plt.legend()"
   ]
  },
  {
   "cell_type": "code",
   "execution_count": 29,
   "metadata": {},
   "outputs": [
    {
     "data": {
      "image/png": "[encoded data removed]",
      "text/plain": [
       "<matplotlib.figure.Figure at 0x108f74a90>"
      ]
     },
     "metadata": {},
     "output_type": "display_data"
    }
   ],
   "source": [
    "spectural_kmeans = KMeans(n_clusters=4).fit(ev)\n",
    "\n",
    "# get centers & cluster labels\n",
    "spectural_centers = spectural_kmeans.cluster_centers_\n",
    "spectural_cluster_labels = spectural_kmeans.labels_\n",
    "\n",
    "# Show first 3 classes on the projection on eigvecs 1,2 \n",
    "colors=['red', 'green', 'blue']\n",
    "digit = [0, 1, 2]\n",
    "for i, c in enumerate(colors):\n",
    "    plt.scatter(ev[spectural_cluster_labels == i, 1], ev[spectural_cluster_labels == i, 2],\n",
    "                color=c, label='Cluster: {}'.format(digit[i]))\n",
    "    plt.legend()"
   ]
  },
  {
   "cell_type": "markdown",
   "metadata": {},
   "source": [
    "### Part 4: Classification (work in progress)"
   ]
  },
  {
   "cell_type": "markdown",
   "metadata": {},
   "source": [
    "### Part a)"
   ]
  },
  {
   "cell_type": "code",
   "execution_count": null,
   "metadata": {},
   "outputs": [],
   "source": [
    "from sklearn.linear_model import LogisticRegression"
   ]
  },
  {
   "cell_type": "code",
   "execution_count": null,
   "metadata": {},
   "outputs": [],
   "source": [
    "lg = LogisticRegression(fit_intercept=True, C=1000000, penalty='l2',\n",
    "                       solver='lbfgs', multi_class='multinomial')"
   ]
  },
  {
   "cell_type": "code",
   "execution_count": null,
   "metadata": {
    "scrolled": true
   },
   "outputs": [],
   "source": [
    "lg.fit(train[:1000], train_labels[:1000])  #(42000,784) (42000)"
   ]
  },
  {
   "cell_type": "code",
   "execution_count": null,
   "metadata": {},
   "outputs": [],
   "source": [
    "# returns predicted labels for development data\n",
    "# using trained model\n",
    "predict = lg.predict(development)  #(14000, 784)"
   ]
  },
  {
   "cell_type": "code",
   "execution_count": null,
   "metadata": {},
   "outputs": [],
   "source": [
    "score = lg.score(development, development_labels)\n",
    "err_rate = 1 - score\n",
    "print('Error rate %d percent' % (err_rate *100.))"
   ]
  },
  {
   "cell_type": "markdown",
   "metadata": {},
   "source": [
    "### Part b)"
   ]
  },
  {
   "cell_type": "code",
   "execution_count": null,
   "metadata": {},
   "outputs": [],
   "source": [
    "# initiate logistc regression\n",
    "# for principal components \n",
    "lg_PC = LogisticRegression(fit_intercept=True, C=1000000, penalty='l2',\n",
    "                           solver='lbfgs', multi_class='multinomial')"
   ]
  },
  {
   "cell_type": "code",
   "execution_count": null,
   "metadata": {},
   "outputs": [],
   "source": [
    "# (42000, 100)\n",
    "projected_train = np.matmul(train, all_components[:100].T)"
   ]
  },
  {
   "cell_type": "code",
   "execution_count": null,
   "metadata": {},
   "outputs": [],
   "source": [
    "#(100, 14000)\n",
    "projected_development = np.matmul(all_components[:100], development.T)"
   ]
  },
  {
   "cell_type": "code",
   "execution_count": null,
   "metadata": {
    "scrolled": true
   },
   "outputs": [],
   "source": [
    "lg_PC.fit(projected_train, train_labels)"
   ]
  },
  {
   "cell_type": "code",
   "execution_count": null,
   "metadata": {},
   "outputs": [],
   "source": [
    "predict_PC = lg_PC.predict(projected_development.T)\n"
   ]
  },
  {
   "cell_type": "code",
   "execution_count": null,
   "metadata": {},
   "outputs": [],
   "source": [
    "def count_error(predict, label_dev):\n",
    "    c = 0\n",
    "    for i in range(len(label_dev)):\n",
    "        if predict[i] != label_dev[i]:\n",
    "            c += 1\n",
    "            \n",
    "    return c * 1.0 / len(label_dev)"
   ]
  },
  {
   "cell_type": "code",
   "execution_count": null,
   "metadata": {},
   "outputs": [],
   "source": [
    "count_error(predict_PC, development_labels)"
   ]
  },
  {
   "cell_type": "code",
   "execution_count": null,
   "metadata": {
    "scrolled": false
   },
   "outputs": [],
   "source": [
    "score = lg_PC.score(projected_development.T, development_labels)\n",
    "err_rate = 1 - score\n",
    "print('Error rate {:.2f}% percent'.format(err_rate *100.))"
   ]
  },
  {
   "cell_type": "code",
   "execution_count": null,
   "metadata": {},
   "outputs": [],
   "source": [
    "# function will be passed under a for loop\n",
    "# to see what the optimal k is\n",
    "# i.e. when the hits a minimum\n",
    "def optimal_ksearch(k_num, training_data, development_data):\n",
    "    lg_PC = LogisticRegression(fit_intercept=True, C=1000000, penalty='l2',\n",
    "                           solver='lbfgs', multi_class='multinomial')\n",
    "    \n",
    "    projected_train = np.matmul(training_data, all_components[:k_num].T)\n",
    "    projected_development = np.matmul(all_components[:k_num],\n",
    "                                      development_data.T)\n",
    "    \n",
    "    lg_PC.fit(projected_train, train_labels)\n",
    "    predict_PC = lg_PC.predict(projected_development.T)\n",
    "    score = lg_PC.score(projected_development.T, development_labels)\n",
    "    err_rate = 1 - score\n",
    "    \n",
    "    return err_rate *100\n",
    "    "
   ]
  },
  {
   "cell_type": "code",
   "execution_count": null,
   "metadata": {},
   "outputs": [],
   "source": [
    "# get error of 49 k-values\n",
    "error_array = np.zeros(49)\n",
    "val = 0\n",
    "for i in range(3,150, 3):\n",
    "    error_array[val] = optimal_ksearch(i, train, development)\n",
    "    val+=1"
   ]
  },
  {
   "cell_type": "code",
   "execution_count": null,
   "metadata": {
    "scrolled": true
   },
   "outputs": [],
   "source": [
    "# plot error as a function of k\n",
    "x = np.linspace(3,150, 49)\n",
    "plt.plot(x, (error_array * 100), c='orange')\n",
    "plt.ylabel('Error in Percentage')\n",
    "plt.xlabel('Number k-components used')\n",
    "plt.title('Error in Logistic Regression with PCA')\n",
    "plt.show()"
   ]
  },
  {
   "cell_type": "code",
   "execution_count": null,
   "metadata": {},
   "outputs": [],
   "source": [
    "%who"
   ]
  },
  {
   "cell_type": "code",
   "execution_count": null,
   "metadata": {},
   "outputs": [],
   "source": [
    "error_array"
   ]
  },
  {
   "cell_type": "markdown",
   "metadata": {},
   "source": [
    "### Part c)"
   ]
  },
  {
   "cell_type": "code",
   "execution_count": null,
   "metadata": {},
   "outputs": [],
   "source": [
    "error_array.argmin()"
   ]
  },
  {
   "cell_type": "code",
   "execution_count": null,
   "metadata": {},
   "outputs": [],
   "source": [
    "optimal_k = int(x[42].round())\n",
    "optimal_k"
   ]
  },
  {
   "cell_type": "code",
   "execution_count": null,
   "metadata": {},
   "outputs": [],
   "source": [
    "data = np.concatenate((train, development))\n",
    "projected_data = np.matmul(data, all_components[:optimal_k].T)"
   ]
  },
  {
   "cell_type": "code",
   "execution_count": null,
   "metadata": {},
   "outputs": [],
   "source": [
    "lg_optimal = LogisticRegression(fit_intercept=True, C=1000000, penalty='l2',\n",
    "                           solver='lbfgs', multi_class='multinomial')"
   ]
  },
  {
   "cell_type": "code",
   "execution_count": null,
   "metadata": {},
   "outputs": [],
   "source": [
    "data_labels = np.concatenate((train_labels, development_labels))\n",
    "lg_optimal.fit(projected_data, data_labels)"
   ]
  },
  {
   "cell_type": "code",
   "execution_count": null,
   "metadata": {},
   "outputs": [],
   "source": [
    "projected_test = np.matmul(all_components[:optimal_k], test.T)\n",
    "predict_optimal = lg_optimal.predict(projected_test.T)"
   ]
  },
  {
   "cell_type": "code",
   "execution_count": null,
   "metadata": {},
   "outputs": [],
   "source": [
    "score_optimal = lg_optimal.score(projected_test.T, test_labels)"
   ]
  },
  {
   "cell_type": "code",
   "execution_count": null,
   "metadata": {},
   "outputs": [],
   "source": [
    "err_rate_optimal = 1 - score_optimal\n",
    "err_rate_optimal * 100"
   ]
  },
  {
   "cell_type": "markdown",
   "metadata": {},
   "source": [
    "The error is small with the optimal k-components. It is approximately 2% smaller."
   ]
  },
  {
   "cell_type": "code",
   "execution_count": null,
   "metadata": {},
   "outputs": [],
   "source": [
    "raw_data = np.concatenate((train, development))\n",
    "lg_optimal = LogisticRegression(fit_intercept=True, C=1000000, penalty='l2',\n",
    "                           solver='lbfgs', multi_class='multinomial')\n",
    "\n",
    "data_labels = np.concatenate((train_labels, development_labels))\n",
    "lg_optimal.fit(raw_data, data_labels)\n",
    "\n",
    "raw_test = test\n",
    "raw_predict = lg_optimal.predict(raw_test)\n",
    "raw_score = lg_optimal.score(raw_test, test_labels)"
   ]
  },
  {
   "cell_type": "code",
   "execution_count": null,
   "metadata": {},
   "outputs": [],
   "source": [
    "err_rate_optimal = 1 - raw_score\n",
    "err_rate_optimal * 100"
   ]
  },
  {
   "cell_type": "markdown",
   "metadata": {},
   "source": [
    "The raw results give a comparable measure than those with the optimal k-components."
   ]
  },
  {
   "cell_type": "code",
   "execution_count": null,
   "metadata": {},
   "outputs": [],
   "source": []
  },
  {
   "cell_type": "code",
   "execution_count": null,
   "metadata": {},
   "outputs": [],
   "source": []
  },
  {
   "cell_type": "code",
   "execution_count": null,
   "metadata": {},
   "outputs": [],
   "source": [
    "arr = np.array([[1, 2], [3, 4]])\n",
    "arr"
   ]
  },
  {
   "cell_type": "code",
   "execution_count": null,
   "metadata": {},
   "outputs": [],
   "source": [
    "arr.T"
   ]
  },
  {
   "cell_type": "code",
   "execution_count": null,
   "metadata": {},
   "outputs": [],
   "source": [
    "np.dot(arr, arr.T)"
   ]
  },
  {
   "cell_type": "code",
   "execution_count": null,
   "metadata": {},
   "outputs": [],
   "source": []
  }
 ],
 "metadata": {
  "kernelspec": {
   "display_name": "Python 3",
   "language": "python",
   "name": "python3"
  },
  "language_info": {
   "codemirror_mode": {
    "name": "ipython",
    "version": 3
   },
   "file_extension": ".py",
   "mimetype": "text/x-python",
   "name": "python",
   "nbconvert_exporter": "python",
   "pygments_lexer": "ipython3",
   "version": "3.5.4"
  }
 },
 "nbformat": 4,
 "nbformat_minor": 2
}
